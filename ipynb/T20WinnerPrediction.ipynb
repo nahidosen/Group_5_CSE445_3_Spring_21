{
  "nbformat": 4,
  "nbformat_minor": 0,
  "metadata": {
    "colab": {
      "name": "T20WinnerPrediction.ipynb",
      "provenance": [],
      "authorship_tag": "ABX9TyPwx+zmcxsbaL5NCXZQoUg8",
      "include_colab_link": true
    },
    "kernelspec": {
      "name": "python3",
      "display_name": "Python 3"
    },
    "language_info": {
      "name": "python"
    }
  },
  "cells": [
    {
      "cell_type": "markdown",
      "metadata": {
        "id": "view-in-github",
        "colab_type": "text"
      },
      "source": [
        "<a href=\"https://colab.research.google.com/github/nahidosen/Group_5_CSE445_3_Spring_21/blob/main/ipynb/T20WinnerPrediction.ipynb\" target=\"_parent\"><img src=\"https://colab.research.google.com/assets/colab-badge.svg\" alt=\"Open In Colab\"/></a>"
      ]
    },
    {
      "cell_type": "code",
      "metadata": {
        "id": "leWn-Z9Js0rW"
      },
      "source": [
        "# Import Libraries\n",
        "\n",
        "import pandas as pd\n",
        "import numpy as np\n",
        "import matplotlib.pyplot as plt\n",
        "\n",
        "import warnings\n",
        "warnings.filterwarnings('ignore')\n",
        "\n",
        "pd.set_option('display.max_columns', 50)"
      ],
      "execution_count": 1,
      "outputs": []
    },
    {
      "cell_type": "code",
      "metadata": {
        "id": "WMIqpOFatLnm"
      },
      "source": [
        "# Upload the audit risk dataset\n",
        "\n",
        "matches = 'https://raw.githubusercontent.com/nahidosen/Group_5_CSE445_3_Spring_21/main/dataset/IT20%20.csv'"
      ],
      "execution_count": 2,
      "outputs": []
    },
    {
      "cell_type": "code",
      "metadata": {
        "colab": {
          "base_uri": "https://localhost:8080/",
          "height": 707
        },
        "id": "zP4rV6wEtNPL",
        "outputId": "1e66fc91-0cd3-421a-a0ad-1068490899c0"
      },
      "source": [
        "# Read the audit risk dataset\n",
        "\n",
        "match_df = pd.read_csv(matches)\n",
        "match_df"
      ],
      "execution_count": 3,
      "outputs": [
        {
          "output_type": "execute_result",
          "data": {
            "text/html": [
              "<div>\n",
              "<style scoped>\n",
              "    .dataframe tbody tr th:only-of-type {\n",
              "        vertical-align: middle;\n",
              "    }\n",
              "\n",
              "    .dataframe tbody tr th {\n",
              "        vertical-align: top;\n",
              "    }\n",
              "\n",
              "    .dataframe thead th {\n",
              "        text-align: right;\n",
              "    }\n",
              "</style>\n",
              "<table border=\"1\" class=\"dataframe\">\n",
              "  <thead>\n",
              "    <tr style=\"text-align: right;\">\n",
              "      <th></th>\n",
              "      <th>dates</th>\n",
              "      <th>venue</th>\n",
              "      <th>city</th>\n",
              "      <th>home_team</th>\n",
              "      <th>team_1</th>\n",
              "      <th>team_2</th>\n",
              "      <th>total_matches_team1</th>\n",
              "      <th>total_matches_team2</th>\n",
              "      <th>toss_winner</th>\n",
              "      <th>total_wins_team1</th>\n",
              "      <th>total_wins_team2</th>\n",
              "      <th>toss_decision</th>\n",
              "      <th>umpire_1</th>\n",
              "      <th>umpire_2</th>\n",
              "      <th>match_winner</th>\n",
              "      <th>head_to_head</th>\n",
              "      <th>total_loses_team1</th>\n",
              "      <th>total_loses_team2</th>\n",
              "      <th>win_ratio_team1</th>\n",
              "      <th>win_ratio_team2</th>\n",
              "      <th>lose_ratio_team1</th>\n",
              "      <th>lose_ratio_team2</th>\n",
              "    </tr>\n",
              "  </thead>\n",
              "  <tbody>\n",
              "    <tr>\n",
              "      <th>0</th>\n",
              "      <td>2005-02-17</td>\n",
              "      <td>Eden Park</td>\n",
              "      <td>Auckland</td>\n",
              "      <td>New Zealand</td>\n",
              "      <td>New Zealand</td>\n",
              "      <td>Australia</td>\n",
              "      <td>NaN</td>\n",
              "      <td>0.0</td>\n",
              "      <td>Australia</td>\n",
              "      <td>NaN</td>\n",
              "      <td>1.0</td>\n",
              "      <td>bat</td>\n",
              "      <td>BF Bowden</td>\n",
              "      <td>AL Hill</td>\n",
              "      <td>Australia</td>\n",
              "      <td>1.0</td>\n",
              "      <td>NaN</td>\n",
              "      <td>NaN</td>\n",
              "      <td>NaN</td>\n",
              "      <td>NaN</td>\n",
              "      <td>NaN</td>\n",
              "      <td>NaN</td>\n",
              "    </tr>\n",
              "    <tr>\n",
              "      <th>1</th>\n",
              "      <td>2005-06-13</td>\n",
              "      <td>The Rose Bowl</td>\n",
              "      <td>Southampton</td>\n",
              "      <td>England</td>\n",
              "      <td>England</td>\n",
              "      <td>Australia</td>\n",
              "      <td>NaN</td>\n",
              "      <td>1.0</td>\n",
              "      <td>England</td>\n",
              "      <td>NaN</td>\n",
              "      <td>NaN</td>\n",
              "      <td>bat</td>\n",
              "      <td>NJ Llong</td>\n",
              "      <td>JW Lloyds</td>\n",
              "      <td>England</td>\n",
              "      <td>NaN</td>\n",
              "      <td>NaN</td>\n",
              "      <td>NaN</td>\n",
              "      <td>NaN</td>\n",
              "      <td>NaN</td>\n",
              "      <td>NaN</td>\n",
              "      <td>NaN</td>\n",
              "    </tr>\n",
              "    <tr>\n",
              "      <th>2</th>\n",
              "      <td>2005-10-21</td>\n",
              "      <td>New Wanderers Stadium</td>\n",
              "      <td>Johannesburg</td>\n",
              "      <td>South Africa</td>\n",
              "      <td>South Africa</td>\n",
              "      <td>New Zealand</td>\n",
              "      <td>NaN</td>\n",
              "      <td>NaN</td>\n",
              "      <td>New Zealand</td>\n",
              "      <td>NaN</td>\n",
              "      <td>NaN</td>\n",
              "      <td>field</td>\n",
              "      <td>IL Howell</td>\n",
              "      <td>BG Jerling</td>\n",
              "      <td>New Zealand</td>\n",
              "      <td>NaN</td>\n",
              "      <td>NaN</td>\n",
              "      <td>NaN</td>\n",
              "      <td>NaN</td>\n",
              "      <td>NaN</td>\n",
              "      <td>NaN</td>\n",
              "      <td>NaN</td>\n",
              "    </tr>\n",
              "    <tr>\n",
              "      <th>3</th>\n",
              "      <td>2006-01-09</td>\n",
              "      <td>Brisbane Cricket Ground</td>\n",
              "      <td>Brisbane</td>\n",
              "      <td>Australia</td>\n",
              "      <td>Australia</td>\n",
              "      <td>South Africa</td>\n",
              "      <td>2.0</td>\n",
              "      <td>NaN</td>\n",
              "      <td>Australia</td>\n",
              "      <td>NaN</td>\n",
              "      <td>NaN</td>\n",
              "      <td>bat</td>\n",
              "      <td>BNJ Oxenford</td>\n",
              "      <td>RL Parry</td>\n",
              "      <td>Australia</td>\n",
              "      <td>NaN</td>\n",
              "      <td>NaN</td>\n",
              "      <td>NaN</td>\n",
              "      <td>NaN</td>\n",
              "      <td>NaN</td>\n",
              "      <td>NaN</td>\n",
              "      <td>NaN</td>\n",
              "    </tr>\n",
              "    <tr>\n",
              "      <th>4</th>\n",
              "      <td>2006-02-16</td>\n",
              "      <td>Eden Park</td>\n",
              "      <td>Auckland</td>\n",
              "      <td>New Zealand</td>\n",
              "      <td>West Indies</td>\n",
              "      <td>New Zealand</td>\n",
              "      <td>NaN</td>\n",
              "      <td>NaN</td>\n",
              "      <td>New Zealand</td>\n",
              "      <td>NaN</td>\n",
              "      <td>NaN</td>\n",
              "      <td>field</td>\n",
              "      <td>BF Bowden</td>\n",
              "      <td>AL Hill</td>\n",
              "      <td>New Zealand</td>\n",
              "      <td>NaN</td>\n",
              "      <td>NaN</td>\n",
              "      <td>NaN</td>\n",
              "      <td>NaN</td>\n",
              "      <td>NaN</td>\n",
              "      <td>NaN</td>\n",
              "      <td>NaN</td>\n",
              "    </tr>\n",
              "    <tr>\n",
              "      <th>...</th>\n",
              "      <td>...</td>\n",
              "      <td>...</td>\n",
              "      <td>...</td>\n",
              "      <td>...</td>\n",
              "      <td>...</td>\n",
              "      <td>...</td>\n",
              "      <td>...</td>\n",
              "      <td>...</td>\n",
              "      <td>...</td>\n",
              "      <td>...</td>\n",
              "      <td>...</td>\n",
              "      <td>...</td>\n",
              "      <td>...</td>\n",
              "      <td>...</td>\n",
              "      <td>...</td>\n",
              "      <td>...</td>\n",
              "      <td>...</td>\n",
              "      <td>...</td>\n",
              "      <td>...</td>\n",
              "      <td>...</td>\n",
              "      <td>...</td>\n",
              "      <td>...</td>\n",
              "    </tr>\n",
              "    <tr>\n",
              "      <th>966</th>\n",
              "      <td>2021-03-17</td>\n",
              "      <td>Sheikh Zayed Stadium</td>\n",
              "      <td>Abu Dhabi</td>\n",
              "      <td>none</td>\n",
              "      <td>Afghanistan</td>\n",
              "      <td>Zimbabwe</td>\n",
              "      <td>NaN</td>\n",
              "      <td>NaN</td>\n",
              "      <td>Zimbabwe</td>\n",
              "      <td>NaN</td>\n",
              "      <td>NaN</td>\n",
              "      <td>field</td>\n",
              "      <td>Aleem Dar</td>\n",
              "      <td>Izatullah Safi</td>\n",
              "      <td>Afghanistan</td>\n",
              "      <td>NaN</td>\n",
              "      <td>NaN</td>\n",
              "      <td>NaN</td>\n",
              "      <td>NaN</td>\n",
              "      <td>NaN</td>\n",
              "      <td>NaN</td>\n",
              "      <td>NaN</td>\n",
              "    </tr>\n",
              "    <tr>\n",
              "      <th>967</th>\n",
              "      <td>2021-03-18</td>\n",
              "      <td>Narendra Modi Stadium</td>\n",
              "      <td>Ahmedabad</td>\n",
              "      <td>India</td>\n",
              "      <td>India</td>\n",
              "      <td>England</td>\n",
              "      <td>NaN</td>\n",
              "      <td>NaN</td>\n",
              "      <td>England</td>\n",
              "      <td>NaN</td>\n",
              "      <td>NaN</td>\n",
              "      <td>field</td>\n",
              "      <td>KN Ananthapadmanabhan</td>\n",
              "      <td>Nitin Menon</td>\n",
              "      <td>India</td>\n",
              "      <td>NaN</td>\n",
              "      <td>NaN</td>\n",
              "      <td>NaN</td>\n",
              "      <td>NaN</td>\n",
              "      <td>NaN</td>\n",
              "      <td>NaN</td>\n",
              "      <td>NaN</td>\n",
              "    </tr>\n",
              "    <tr>\n",
              "      <th>968</th>\n",
              "      <td>2021-03-19</td>\n",
              "      <td>Sheikh Zayed Stadium</td>\n",
              "      <td>Abu Dhabi</td>\n",
              "      <td>none</td>\n",
              "      <td>Afghanistan</td>\n",
              "      <td>Zimbabwe</td>\n",
              "      <td>NaN</td>\n",
              "      <td>NaN</td>\n",
              "      <td>Afghanistan</td>\n",
              "      <td>NaN</td>\n",
              "      <td>NaN</td>\n",
              "      <td>bat</td>\n",
              "      <td>Ahmed Shah Durrani</td>\n",
              "      <td>Aleem Dar</td>\n",
              "      <td>Afghanistan</td>\n",
              "      <td>NaN</td>\n",
              "      <td>NaN</td>\n",
              "      <td>NaN</td>\n",
              "      <td>NaN</td>\n",
              "      <td>NaN</td>\n",
              "      <td>NaN</td>\n",
              "      <td>NaN</td>\n",
              "    </tr>\n",
              "    <tr>\n",
              "      <th>969</th>\n",
              "      <td>2021-03-20</td>\n",
              "      <td>Narendra Modi Stadium</td>\n",
              "      <td>Ahmedabad</td>\n",
              "      <td>India</td>\n",
              "      <td>India</td>\n",
              "      <td>England</td>\n",
              "      <td>NaN</td>\n",
              "      <td>NaN</td>\n",
              "      <td>England</td>\n",
              "      <td>NaN</td>\n",
              "      <td>NaN</td>\n",
              "      <td>field</td>\n",
              "      <td>AK Chaudhary</td>\n",
              "      <td>Nitin Menon</td>\n",
              "      <td>India</td>\n",
              "      <td>NaN</td>\n",
              "      <td>NaN</td>\n",
              "      <td>NaN</td>\n",
              "      <td>NaN</td>\n",
              "      <td>NaN</td>\n",
              "      <td>NaN</td>\n",
              "      <td>NaN</td>\n",
              "    </tr>\n",
              "    <tr>\n",
              "      <th>970</th>\n",
              "      <td>2021-03-20</td>\n",
              "      <td>Sheikh Zayed Stadium</td>\n",
              "      <td>Abu Dhabi</td>\n",
              "      <td>none</td>\n",
              "      <td>Afghanistan</td>\n",
              "      <td>Zimbabwe</td>\n",
              "      <td>NaN</td>\n",
              "      <td>NaN</td>\n",
              "      <td>Afghanistan</td>\n",
              "      <td>NaN</td>\n",
              "      <td>NaN</td>\n",
              "      <td>bat</td>\n",
              "      <td>Aleem Dar</td>\n",
              "      <td>Izatullah Safi</td>\n",
              "      <td>Afghanistan</td>\n",
              "      <td>NaN</td>\n",
              "      <td>NaN</td>\n",
              "      <td>NaN</td>\n",
              "      <td>NaN</td>\n",
              "      <td>NaN</td>\n",
              "      <td>NaN</td>\n",
              "      <td>NaN</td>\n",
              "    </tr>\n",
              "  </tbody>\n",
              "</table>\n",
              "<p>971 rows × 22 columns</p>\n",
              "</div>"
            ],
            "text/plain": [
              "          dates                    venue          city     home_team  \\\n",
              "0    2005-02-17                Eden Park      Auckland   New Zealand   \n",
              "1    2005-06-13            The Rose Bowl   Southampton       England   \n",
              "2    2005-10-21    New Wanderers Stadium  Johannesburg  South Africa   \n",
              "3    2006-01-09  Brisbane Cricket Ground      Brisbane     Australia   \n",
              "4    2006-02-16                Eden Park      Auckland   New Zealand   \n",
              "..          ...                      ...           ...           ...   \n",
              "966  2021-03-17     Sheikh Zayed Stadium     Abu Dhabi          none   \n",
              "967  2021-03-18    Narendra Modi Stadium     Ahmedabad         India   \n",
              "968  2021-03-19     Sheikh Zayed Stadium     Abu Dhabi          none   \n",
              "969  2021-03-20    Narendra Modi Stadium     Ahmedabad         India   \n",
              "970  2021-03-20     Sheikh Zayed Stadium     Abu Dhabi          none   \n",
              "\n",
              "           team_1        team_2  total_matches_team1  total_matches_team2  \\\n",
              "0     New Zealand     Australia                  NaN                  0.0   \n",
              "1         England     Australia                  NaN                  1.0   \n",
              "2    South Africa   New Zealand                  NaN                  NaN   \n",
              "3       Australia  South Africa                  2.0                  NaN   \n",
              "4     West Indies   New Zealand                  NaN                  NaN   \n",
              "..            ...           ...                  ...                  ...   \n",
              "966   Afghanistan      Zimbabwe                  NaN                  NaN   \n",
              "967         India       England                  NaN                  NaN   \n",
              "968   Afghanistan      Zimbabwe                  NaN                  NaN   \n",
              "969         India       England                  NaN                  NaN   \n",
              "970   Afghanistan      Zimbabwe                  NaN                  NaN   \n",
              "\n",
              "     toss_winner  total_wins_team1  total_wins_team2 toss_decision  \\\n",
              "0      Australia               NaN               1.0           bat   \n",
              "1        England               NaN               NaN           bat   \n",
              "2    New Zealand               NaN               NaN         field   \n",
              "3      Australia               NaN               NaN           bat   \n",
              "4    New Zealand               NaN               NaN         field   \n",
              "..           ...               ...               ...           ...   \n",
              "966     Zimbabwe               NaN               NaN         field   \n",
              "967      England               NaN               NaN         field   \n",
              "968  Afghanistan               NaN               NaN           bat   \n",
              "969      England               NaN               NaN         field   \n",
              "970  Afghanistan               NaN               NaN           bat   \n",
              "\n",
              "                  umpire_1        umpire_2 match_winner  head_to_head  \\\n",
              "0                BF Bowden         AL Hill    Australia           1.0   \n",
              "1                 NJ Llong       JW Lloyds      England           NaN   \n",
              "2                IL Howell      BG Jerling  New Zealand           NaN   \n",
              "3             BNJ Oxenford        RL Parry    Australia           NaN   \n",
              "4                BF Bowden         AL Hill  New Zealand           NaN   \n",
              "..                     ...             ...          ...           ...   \n",
              "966              Aleem Dar  Izatullah Safi  Afghanistan           NaN   \n",
              "967  KN Ananthapadmanabhan     Nitin Menon        India           NaN   \n",
              "968     Ahmed Shah Durrani       Aleem Dar  Afghanistan           NaN   \n",
              "969           AK Chaudhary     Nitin Menon        India           NaN   \n",
              "970              Aleem Dar  Izatullah Safi  Afghanistan           NaN   \n",
              "\n",
              "     total_loses_team1  total_loses_team2  win_ratio_team1  win_ratio_team2  \\\n",
              "0                  NaN                NaN              NaN              NaN   \n",
              "1                  NaN                NaN              NaN              NaN   \n",
              "2                  NaN                NaN              NaN              NaN   \n",
              "3                  NaN                NaN              NaN              NaN   \n",
              "4                  NaN                NaN              NaN              NaN   \n",
              "..                 ...                ...              ...              ...   \n",
              "966                NaN                NaN              NaN              NaN   \n",
              "967                NaN                NaN              NaN              NaN   \n",
              "968                NaN                NaN              NaN              NaN   \n",
              "969                NaN                NaN              NaN              NaN   \n",
              "970                NaN                NaN              NaN              NaN   \n",
              "\n",
              "     lose_ratio_team1  lose_ratio_team2  \n",
              "0                 NaN               NaN  \n",
              "1                 NaN               NaN  \n",
              "2                 NaN               NaN  \n",
              "3                 NaN               NaN  \n",
              "4                 NaN               NaN  \n",
              "..                ...               ...  \n",
              "966               NaN               NaN  \n",
              "967               NaN               NaN  \n",
              "968               NaN               NaN  \n",
              "969               NaN               NaN  \n",
              "970               NaN               NaN  \n",
              "\n",
              "[971 rows x 22 columns]"
            ]
          },
          "metadata": {
            "tags": []
          },
          "execution_count": 3
        }
      ]
    },
    {
      "cell_type": "code",
      "metadata": {
        "colab": {
          "base_uri": "https://localhost:8080/"
        },
        "id": "NpftLVX0uabZ",
        "outputId": "ef1c8ba5-38ab-4820-ee27-d6bbf995890a"
      },
      "source": [
        "match_df.info()"
      ],
      "execution_count": 5,
      "outputs": [
        {
          "output_type": "stream",
          "text": [
            "<class 'pandas.core.frame.DataFrame'>\n",
            "RangeIndex: 971 entries, 0 to 970\n",
            "Data columns (total 22 columns):\n",
            " #   Column               Non-Null Count  Dtype  \n",
            "---  ------               --------------  -----  \n",
            " 0   dates                971 non-null    object \n",
            " 1   venue                971 non-null    object \n",
            " 2   city                 971 non-null    object \n",
            " 3   home_team            971 non-null    object \n",
            " 4   team_1               971 non-null    object \n",
            " 5   team_2               971 non-null    object \n",
            " 6   total_matches_team1  80 non-null     float64\n",
            " 7   total_matches_team2  56 non-null     float64\n",
            " 8   toss_winner          971 non-null    object \n",
            " 9   total_wins_team1     0 non-null      float64\n",
            " 10  total_wins_team2     1 non-null      float64\n",
            " 11  toss_decision        971 non-null    object \n",
            " 12  umpire_1             971 non-null    object \n",
            " 13  umpire_2             971 non-null    object \n",
            " 14  match_winner         971 non-null    object \n",
            " 15  head_to_head         3 non-null      float64\n",
            " 16  total_loses_team1    0 non-null      float64\n",
            " 17  total_loses_team2    0 non-null      float64\n",
            " 18  win_ratio_team1      0 non-null      float64\n",
            " 19  win_ratio_team2      0 non-null      float64\n",
            " 20  lose_ratio_team1     0 non-null      float64\n",
            " 21  lose_ratio_team2     0 non-null      float64\n",
            "dtypes: float64(11), object(11)\n",
            "memory usage: 167.0+ KB\n"
          ],
          "name": "stdout"
        }
      ]
    },
    {
      "cell_type": "code",
      "metadata": {
        "colab": {
          "base_uri": "https://localhost:8080/"
        },
        "id": "hJR4MTPhudBz",
        "outputId": "895da44a-0bcf-4608-f211-ddad196927d9"
      },
      "source": [
        "# Check if there any column left contains missing value\n",
        "match_df.isnull().sum()"
      ],
      "execution_count": 6,
      "outputs": [
        {
          "output_type": "execute_result",
          "data": {
            "text/plain": [
              "dates                    0\n",
              "venue                    0\n",
              "city                     0\n",
              "home_team                0\n",
              "team_1                   0\n",
              "team_2                   0\n",
              "total_matches_team1    891\n",
              "total_matches_team2    915\n",
              "toss_winner              0\n",
              "total_wins_team1       971\n",
              "total_wins_team2       970\n",
              "toss_decision            0\n",
              "umpire_1                 0\n",
              "umpire_2                 0\n",
              "match_winner             0\n",
              "head_to_head           968\n",
              "total_loses_team1      971\n",
              "total_loses_team2      971\n",
              "win_ratio_team1        971\n",
              "win_ratio_team2        971\n",
              "lose_ratio_team1       971\n",
              "lose_ratio_team2       971\n",
              "dtype: int64"
            ]
          },
          "metadata": {
            "tags": []
          },
          "execution_count": 6
        }
      ]
    },
    {
      "cell_type": "code",
      "metadata": {
        "id": "7FbrCFbjEI-K"
      },
      "source": [
        "match_df = match_df.dropna(axis=1)"
      ],
      "execution_count": 7,
      "outputs": []
    },
    {
      "cell_type": "code",
      "metadata": {
        "colab": {
          "base_uri": "https://localhost:8080/"
        },
        "id": "hHyh4E27ES50",
        "outputId": "4cf90760-f6a3-468f-994e-7c720548baa8"
      },
      "source": [
        "match_df.info()"
      ],
      "execution_count": 8,
      "outputs": [
        {
          "output_type": "stream",
          "text": [
            "<class 'pandas.core.frame.DataFrame'>\n",
            "RangeIndex: 971 entries, 0 to 970\n",
            "Data columns (total 11 columns):\n",
            " #   Column         Non-Null Count  Dtype \n",
            "---  ------         --------------  ----- \n",
            " 0   dates          971 non-null    object\n",
            " 1   venue          971 non-null    object\n",
            " 2   city           971 non-null    object\n",
            " 3   home_team      971 non-null    object\n",
            " 4   team_1         971 non-null    object\n",
            " 5   team_2         971 non-null    object\n",
            " 6   toss_winner    971 non-null    object\n",
            " 7   toss_decision  971 non-null    object\n",
            " 8   umpire_1       971 non-null    object\n",
            " 9   umpire_2       971 non-null    object\n",
            " 10  match_winner   971 non-null    object\n",
            "dtypes: object(11)\n",
            "memory usage: 83.6+ KB\n"
          ],
          "name": "stdout"
        }
      ]
    },
    {
      "cell_type": "code",
      "metadata": {
        "colab": {
          "base_uri": "https://localhost:8080/"
        },
        "id": "2dFPDnu5EV2H",
        "outputId": "2f12fcbf-0778-4345-aab5-a8ddcc919138"
      },
      "source": [
        "match_df.describe"
      ],
      "execution_count": 9,
      "outputs": [
        {
          "output_type": "execute_result",
          "data": {
            "text/plain": [
              "<bound method NDFrame.describe of           dates                    venue          city     home_team  \\\n",
              "0    2005-02-17                Eden Park      Auckland   New Zealand   \n",
              "1    2005-06-13            The Rose Bowl   Southampton       England   \n",
              "2    2005-10-21    New Wanderers Stadium  Johannesburg  South Africa   \n",
              "3    2006-01-09  Brisbane Cricket Ground      Brisbane     Australia   \n",
              "4    2006-02-16                Eden Park      Auckland   New Zealand   \n",
              "..          ...                      ...           ...           ...   \n",
              "966  2021-03-17     Sheikh Zayed Stadium     Abu Dhabi          none   \n",
              "967  2021-03-18    Narendra Modi Stadium     Ahmedabad         India   \n",
              "968  2021-03-19     Sheikh Zayed Stadium     Abu Dhabi          none   \n",
              "969  2021-03-20    Narendra Modi Stadium     Ahmedabad         India   \n",
              "970  2021-03-20     Sheikh Zayed Stadium     Abu Dhabi          none   \n",
              "\n",
              "           team_1        team_2  toss_winner toss_decision  \\\n",
              "0     New Zealand     Australia    Australia           bat   \n",
              "1         England     Australia      England           bat   \n",
              "2    South Africa   New Zealand  New Zealand         field   \n",
              "3       Australia  South Africa    Australia           bat   \n",
              "4     West Indies   New Zealand  New Zealand         field   \n",
              "..            ...           ...          ...           ...   \n",
              "966   Afghanistan      Zimbabwe     Zimbabwe         field   \n",
              "967         India       England      England         field   \n",
              "968   Afghanistan      Zimbabwe  Afghanistan           bat   \n",
              "969         India       England      England         field   \n",
              "970   Afghanistan      Zimbabwe  Afghanistan           bat   \n",
              "\n",
              "                  umpire_1        umpire_2 match_winner  \n",
              "0                BF Bowden         AL Hill    Australia  \n",
              "1                 NJ Llong       JW Lloyds      England  \n",
              "2                IL Howell      BG Jerling  New Zealand  \n",
              "3             BNJ Oxenford        RL Parry    Australia  \n",
              "4                BF Bowden         AL Hill  New Zealand  \n",
              "..                     ...             ...          ...  \n",
              "966              Aleem Dar  Izatullah Safi  Afghanistan  \n",
              "967  KN Ananthapadmanabhan     Nitin Menon        India  \n",
              "968     Ahmed Shah Durrani       Aleem Dar  Afghanistan  \n",
              "969           AK Chaudhary     Nitin Menon        India  \n",
              "970              Aleem Dar  Izatullah Safi  Afghanistan  \n",
              "\n",
              "[971 rows x 11 columns]>"
            ]
          },
          "metadata": {
            "tags": []
          },
          "execution_count": 9
        }
      ]
    },
    {
      "cell_type": "code",
      "metadata": {
        "colab": {
          "base_uri": "https://localhost:8080/",
          "height": 343
        },
        "id": "UZGZmtAvEa5d",
        "outputId": "ab09abc7-38cc-40f6-e67f-3e4935d8458e"
      },
      "source": [
        "match_df.head(10)"
      ],
      "execution_count": 10,
      "outputs": [
        {
          "output_type": "execute_result",
          "data": {
            "text/html": [
              "<div>\n",
              "<style scoped>\n",
              "    .dataframe tbody tr th:only-of-type {\n",
              "        vertical-align: middle;\n",
              "    }\n",
              "\n",
              "    .dataframe tbody tr th {\n",
              "        vertical-align: top;\n",
              "    }\n",
              "\n",
              "    .dataframe thead th {\n",
              "        text-align: right;\n",
              "    }\n",
              "</style>\n",
              "<table border=\"1\" class=\"dataframe\">\n",
              "  <thead>\n",
              "    <tr style=\"text-align: right;\">\n",
              "      <th></th>\n",
              "      <th>dates</th>\n",
              "      <th>venue</th>\n",
              "      <th>city</th>\n",
              "      <th>home_team</th>\n",
              "      <th>team_1</th>\n",
              "      <th>team_2</th>\n",
              "      <th>toss_winner</th>\n",
              "      <th>toss_decision</th>\n",
              "      <th>umpire_1</th>\n",
              "      <th>umpire_2</th>\n",
              "      <th>match_winner</th>\n",
              "    </tr>\n",
              "  </thead>\n",
              "  <tbody>\n",
              "    <tr>\n",
              "      <th>0</th>\n",
              "      <td>2005-02-17</td>\n",
              "      <td>Eden Park</td>\n",
              "      <td>Auckland</td>\n",
              "      <td>New Zealand</td>\n",
              "      <td>New Zealand</td>\n",
              "      <td>Australia</td>\n",
              "      <td>Australia</td>\n",
              "      <td>bat</td>\n",
              "      <td>BF Bowden</td>\n",
              "      <td>AL Hill</td>\n",
              "      <td>Australia</td>\n",
              "    </tr>\n",
              "    <tr>\n",
              "      <th>1</th>\n",
              "      <td>2005-06-13</td>\n",
              "      <td>The Rose Bowl</td>\n",
              "      <td>Southampton</td>\n",
              "      <td>England</td>\n",
              "      <td>England</td>\n",
              "      <td>Australia</td>\n",
              "      <td>England</td>\n",
              "      <td>bat</td>\n",
              "      <td>NJ Llong</td>\n",
              "      <td>JW Lloyds</td>\n",
              "      <td>England</td>\n",
              "    </tr>\n",
              "    <tr>\n",
              "      <th>2</th>\n",
              "      <td>2005-10-21</td>\n",
              "      <td>New Wanderers Stadium</td>\n",
              "      <td>Johannesburg</td>\n",
              "      <td>South Africa</td>\n",
              "      <td>South Africa</td>\n",
              "      <td>New Zealand</td>\n",
              "      <td>New Zealand</td>\n",
              "      <td>field</td>\n",
              "      <td>IL Howell</td>\n",
              "      <td>BG Jerling</td>\n",
              "      <td>New Zealand</td>\n",
              "    </tr>\n",
              "    <tr>\n",
              "      <th>3</th>\n",
              "      <td>2006-01-09</td>\n",
              "      <td>Brisbane Cricket Ground</td>\n",
              "      <td>Brisbane</td>\n",
              "      <td>Australia</td>\n",
              "      <td>Australia</td>\n",
              "      <td>South Africa</td>\n",
              "      <td>Australia</td>\n",
              "      <td>bat</td>\n",
              "      <td>BNJ Oxenford</td>\n",
              "      <td>RL Parry</td>\n",
              "      <td>Australia</td>\n",
              "    </tr>\n",
              "    <tr>\n",
              "      <th>4</th>\n",
              "      <td>2006-02-16</td>\n",
              "      <td>Eden Park</td>\n",
              "      <td>Auckland</td>\n",
              "      <td>New Zealand</td>\n",
              "      <td>West Indies</td>\n",
              "      <td>New Zealand</td>\n",
              "      <td>New Zealand</td>\n",
              "      <td>field</td>\n",
              "      <td>BF Bowden</td>\n",
              "      <td>AL Hill</td>\n",
              "      <td>New Zealand</td>\n",
              "    </tr>\n",
              "    <tr>\n",
              "      <th>5</th>\n",
              "      <td>2006-02-24</td>\n",
              "      <td>New Wanderers Stadium</td>\n",
              "      <td>Johannesburg</td>\n",
              "      <td>South Africa</td>\n",
              "      <td>South Africa</td>\n",
              "      <td>Australia</td>\n",
              "      <td>South Africa</td>\n",
              "      <td>bat</td>\n",
              "      <td>M Erasmus</td>\n",
              "      <td>KH Hurter</td>\n",
              "      <td>South Africa</td>\n",
              "    </tr>\n",
              "    <tr>\n",
              "      <th>6</th>\n",
              "      <td>2006-06-15</td>\n",
              "      <td>The Rose Bowl</td>\n",
              "      <td>Southampton</td>\n",
              "      <td>England</td>\n",
              "      <td>England</td>\n",
              "      <td>Sri Lanka</td>\n",
              "      <td>Sri Lanka</td>\n",
              "      <td>bat</td>\n",
              "      <td>IJ Gould</td>\n",
              "      <td>NJ Llong</td>\n",
              "      <td>Sri Lanka</td>\n",
              "    </tr>\n",
              "    <tr>\n",
              "      <th>7</th>\n",
              "      <td>2006-08-28</td>\n",
              "      <td>County Ground</td>\n",
              "      <td>Bristol</td>\n",
              "      <td>England</td>\n",
              "      <td>England</td>\n",
              "      <td>Pakistan</td>\n",
              "      <td>England</td>\n",
              "      <td>bat</td>\n",
              "      <td>PJ Hartley</td>\n",
              "      <td>NJ Llong</td>\n",
              "      <td>Pakistan</td>\n",
              "    </tr>\n",
              "    <tr>\n",
              "      <th>8</th>\n",
              "      <td>2006-12-01</td>\n",
              "      <td>New Wanderers Stadium</td>\n",
              "      <td>Johannesburg</td>\n",
              "      <td>South Africa</td>\n",
              "      <td>South Africa</td>\n",
              "      <td>India</td>\n",
              "      <td>South Africa</td>\n",
              "      <td>bat</td>\n",
              "      <td>IL Howell</td>\n",
              "      <td>BG Jerling</td>\n",
              "      <td>India</td>\n",
              "    </tr>\n",
              "    <tr>\n",
              "      <th>9</th>\n",
              "      <td>2006-12-22</td>\n",
              "      <td>Westpac Stadium</td>\n",
              "      <td>Wellington</td>\n",
              "      <td>New Zealand</td>\n",
              "      <td>New Zealand</td>\n",
              "      <td>Sri Lanka</td>\n",
              "      <td>New Zealand</td>\n",
              "      <td>bat</td>\n",
              "      <td>AL Hill</td>\n",
              "      <td>EA Watkin</td>\n",
              "      <td>Sri Lanka</td>\n",
              "    </tr>\n",
              "  </tbody>\n",
              "</table>\n",
              "</div>"
            ],
            "text/plain": [
              "        dates                    venue          city     home_team  \\\n",
              "0  2005-02-17                Eden Park      Auckland   New Zealand   \n",
              "1  2005-06-13            The Rose Bowl   Southampton       England   \n",
              "2  2005-10-21    New Wanderers Stadium  Johannesburg  South Africa   \n",
              "3  2006-01-09  Brisbane Cricket Ground      Brisbane     Australia   \n",
              "4  2006-02-16                Eden Park      Auckland   New Zealand   \n",
              "5  2006-02-24    New Wanderers Stadium  Johannesburg  South Africa   \n",
              "6  2006-06-15            The Rose Bowl   Southampton       England   \n",
              "7  2006-08-28            County Ground       Bristol       England   \n",
              "8  2006-12-01    New Wanderers Stadium  Johannesburg  South Africa   \n",
              "9  2006-12-22          Westpac Stadium    Wellington   New Zealand   \n",
              "\n",
              "         team_1        team_2   toss_winner toss_decision      umpire_1  \\\n",
              "0   New Zealand     Australia     Australia           bat     BF Bowden   \n",
              "1       England     Australia       England           bat      NJ Llong   \n",
              "2  South Africa   New Zealand   New Zealand         field     IL Howell   \n",
              "3     Australia  South Africa     Australia           bat  BNJ Oxenford   \n",
              "4   West Indies   New Zealand   New Zealand         field     BF Bowden   \n",
              "5  South Africa     Australia  South Africa           bat     M Erasmus   \n",
              "6       England     Sri Lanka     Sri Lanka           bat      IJ Gould   \n",
              "7       England      Pakistan       England           bat    PJ Hartley   \n",
              "8  South Africa         India  South Africa           bat     IL Howell   \n",
              "9   New Zealand     Sri Lanka   New Zealand           bat       AL Hill   \n",
              "\n",
              "     umpire_2  match_winner  \n",
              "0     AL Hill     Australia  \n",
              "1   JW Lloyds       England  \n",
              "2  BG Jerling   New Zealand  \n",
              "3    RL Parry     Australia  \n",
              "4     AL Hill   New Zealand  \n",
              "5   KH Hurter  South Africa  \n",
              "6    NJ Llong     Sri Lanka  \n",
              "7    NJ Llong      Pakistan  \n",
              "8  BG Jerling         India  \n",
              "9   EA Watkin     Sri Lanka  "
            ]
          },
          "metadata": {
            "tags": []
          },
          "execution_count": 10
        }
      ]
    },
    {
      "cell_type": "code",
      "metadata": {
        "colab": {
          "base_uri": "https://localhost:8080/"
        },
        "id": "fTI3kD55Eheg",
        "outputId": "57820da8-4c8c-4ba8-c34c-532d6706b3b5"
      },
      "source": [
        "match_df.shape"
      ],
      "execution_count": 11,
      "outputs": [
        {
          "output_type": "execute_result",
          "data": {
            "text/plain": [
              "(971, 11)"
            ]
          },
          "metadata": {
            "tags": []
          },
          "execution_count": 11
        }
      ]
    },
    {
      "cell_type": "code",
      "metadata": {
        "colab": {
          "base_uri": "https://localhost:8080/"
        },
        "id": "BD_zma9AFNcS",
        "outputId": "9b23532a-a24f-45a6-e2ad-03e89cb9bcd6"
      },
      "source": [
        "match_df.nunique()"
      ],
      "execution_count": 13,
      "outputs": [
        {
          "output_type": "execute_result",
          "data": {
            "text/plain": [
              "dates            722\n",
              "venue            138\n",
              "city             117\n",
              "home_team         28\n",
              "team_1            48\n",
              "team_2            46\n",
              "toss_winner       46\n",
              "toss_decision      2\n",
              "umpire_1         147\n",
              "umpire_2         152\n",
              "match_winner      42\n",
              "dtype: int64"
            ]
          },
          "metadata": {
            "tags": []
          },
          "execution_count": 13
        }
      ]
    },
    {
      "cell_type": "code",
      "metadata": {
        "colab": {
          "base_uri": "https://localhost:8080/"
        },
        "id": "52XQxyaxEu_8",
        "outputId": "d59f9e4b-33fe-4d2c-8785-6bd222752a7a"
      },
      "source": [
        "match_df['team_1'].value_counts()"
      ],
      "execution_count": 12,
      "outputs": [
        {
          "output_type": "execute_result",
          "data": {
            "text/plain": [
              "New Zealand                 81\n",
              "Australia                   80\n",
              "India                       77\n",
              "England                     70\n",
              "South Africa                69\n",
              "Afghanistan                 62\n",
              "Pakistan                    57\n",
              "Bangladesh                  56\n",
              "Sri Lanka                   51\n",
              "West Indies                 51\n",
              "Ireland                     43\n",
              "Netherlands                 28\n",
              "Zimbabwe                    28\n",
              "Hong Kong                   27\n",
              "United Arab Emirates        27\n",
              "Canada                      19\n",
              "Malaysia                    17\n",
              "Kenya                       16\n",
              "Nepal                       10\n",
              "Oman                        10\n",
              "Namibia                     10\n",
              "Bermuda                     10\n",
              "Scotland                     7\n",
              "Singapore                    6\n",
              "Denmark                      5\n",
              "Kuwait                       5\n",
              "Papua New Guinea             5\n",
              "Uganda                       4\n",
              "Thailand                     4\n",
              "Guernsey                     4\n",
              "Maldives                     3\n",
              "Philippines                  3\n",
              "Germany                      3\n",
              "Jersey                       3\n",
              "Ghana                        3\n",
              "Cayman Islands               2\n",
              "United States of America     2\n",
              "Botswana                     2\n",
              "Bulgaria                     2\n",
              "Iran                         1\n",
              "Saudi Arabia                 1\n",
              "Nigeria                      1\n",
              "Italy                        1\n",
              "Bhutan                       1\n",
              "Romania                      1\n",
              "Qatar                        1\n",
              "Bahrain                      1\n",
              "Isle of Man                  1\n",
              "Name: team_1, dtype: int64"
            ]
          },
          "metadata": {
            "tags": []
          },
          "execution_count": 12
        }
      ]
    },
    {
      "cell_type": "code",
      "metadata": {
        "colab": {
          "base_uri": "https://localhost:8080/"
        },
        "id": "FrcL6txkFDoy",
        "outputId": "c70b2d1d-a767-4acb-960a-a7302de8c521"
      },
      "source": [
        "match_df['team_2'].value_counts()"
      ],
      "execution_count": 14,
      "outputs": [
        {
          "output_type": "execute_result",
          "data": {
            "text/plain": [
              "Pakistan                    100\n",
              "West Indies                  78\n",
              "Sri Lanka                    77\n",
              "India                        63\n",
              "England                      61\n",
              "New Zealand                  61\n",
              "South Africa                 57\n",
              "Australia                    56\n",
              "Zimbabwe                     49\n",
              "Ireland                      43\n",
              "Scotland                     42\n",
              "Netherlands                  36\n",
              "Bangladesh                   35\n",
              "Nepal                        21\n",
              "Oman                         21\n",
              "United Arab Emirates         18\n",
              "Afghanistan                  16\n",
              "Hong Kong                    15\n",
              "Papua New Guinea             15\n",
              "Kenya                        12\n",
              "Singapore                     9\n",
              "Vanuatu                       9\n",
              "Jersey                        7\n",
              "Nigeria                       7\n",
              "United States of America      6\n",
              "Namibia                       6\n",
              "Qatar                         5\n",
              "Malaysia                      5\n",
              "Botswana                      5\n",
              "Thailand                      4\n",
              "Norway                        4\n",
              "Cayman Islands                4\n",
              "Maldives                      4\n",
              "Italy                         3\n",
              "Guernsey                      2\n",
              "Bermuda                       2\n",
              "Germany                       2\n",
              "Romania                       2\n",
              "Canada                        2\n",
              "Bulgaria                      1\n",
              "Ghana                         1\n",
              "Philippines                   1\n",
              "Denmark                       1\n",
              "Kuwait                        1\n",
              "Bhutan                        1\n",
              "Bahrain                       1\n",
              "Name: team_2, dtype: int64"
            ]
          },
          "metadata": {
            "tags": []
          },
          "execution_count": 14
        }
      ]
    },
    {
      "cell_type": "code",
      "metadata": {
        "colab": {
          "base_uri": "https://localhost:8080/"
        },
        "id": "XIF6gZMDFhYu",
        "outputId": "0842fb36-d309-4cbf-dd4d-f6dde47d743d"
      },
      "source": [
        "match_df['home_team'].value_counts()"
      ],
      "execution_count": 15,
      "outputs": [
        {
          "output_type": "execute_result",
          "data": {
            "text/plain": [
              "none                    405\n",
              "New Zealand              70\n",
              "South Africa             62\n",
              "India                    51\n",
              "England                  48\n",
              "Australia                46\n",
              "West Indies              43\n",
              "Sri Lanka                42\n",
              "Bangladesh               38\n",
              "United Arab Emirates     27\n",
              "Zimbabwe                 24\n",
              "Pakistan                 18\n",
              "Ireland                  16\n",
              "Malaysia                 15\n",
              "Netherlands              12\n",
              "Oman                      7\n",
              "Singapore                 6\n",
              "Scotland                  5\n",
              "Bermuda                   5\n",
              "Kenya                     5\n",
              "Thailand                  4\n",
              "Papua New Guinea          4\n",
              "Namibia                   4\n",
              "Uganda                    4\n",
              "Nepal                     3\n",
              "Romania                   3\n",
              "Guernsey                  2\n",
              "Hong Kong                 2\n",
              "Name: home_team, dtype: int64"
            ]
          },
          "metadata": {
            "tags": []
          },
          "execution_count": 15
        }
      ]
    },
    {
      "cell_type": "code",
      "metadata": {
        "colab": {
          "base_uri": "https://localhost:8080/"
        },
        "id": "YCr_pxgLFvNl",
        "outputId": "d328d4b8-506a-46b8-9491-0fd800a37a27"
      },
      "source": [
        "match_df['toss_winner'].value_counts()"
      ],
      "execution_count": 16,
      "outputs": [
        {
          "output_type": "execute_result",
          "data": {
            "text/plain": [
              "Pakistan                    79\n",
              "Australia                   73\n",
              "New Zealand                 69\n",
              "West Indies                 67\n",
              "England                     66\n",
              "India                       64\n",
              "South Africa                60\n",
              "Sri Lanka                   58\n",
              "Ireland                     48\n",
              "Bangladesh                  48\n",
              "Zimbabwe                    39\n",
              "Afghanistan                 39\n",
              "Netherlands                 33\n",
              "United Arab Emirates        25\n",
              "Hong Kong                   22\n",
              "Scotland                    19\n",
              "Oman                        18\n",
              "Malaysia                    14\n",
              "Kenya                       14\n",
              "Nepal                       13\n",
              "Papua New Guinea            11\n",
              "Canada                      10\n",
              "Singapore                   10\n",
              "Thailand                     7\n",
              "Namibia                      7\n",
              "Vanuatu                      6\n",
              "Bermuda                      5\n",
              "Botswana                     5\n",
              "Jersey                       4\n",
              "Nigeria                      4\n",
              "Germany                      4\n",
              "Denmark                      4\n",
              "United States of America     3\n",
              "Guernsey                     3\n",
              "Cayman Islands               3\n",
              "Ghana                        3\n",
              "Qatar                        2\n",
              "Bulgaria                     2\n",
              "Kuwait                       2\n",
              "Italy                        2\n",
              "Bahrain                      1\n",
              "Maldives                     1\n",
              "Romania                      1\n",
              "Philippines                  1\n",
              "Bhutan                       1\n",
              "Isle of Man                  1\n",
              "Name: toss_winner, dtype: int64"
            ]
          },
          "metadata": {
            "tags": []
          },
          "execution_count": 16
        }
      ]
    },
    {
      "cell_type": "code",
      "metadata": {
        "colab": {
          "base_uri": "https://localhost:8080/"
        },
        "id": "1SoxeHUYFzC5",
        "outputId": "9081ca57-98e3-4f43-9aa4-beab778a72e6"
      },
      "source": [
        "match_df['match_winner'].value_counts()"
      ],
      "execution_count": 19,
      "outputs": [
        {
          "output_type": "execute_result",
          "data": {
            "text/plain": [
              "Pakistan                    98\n",
              "India                       90\n",
              "New Zealand                 77\n",
              "Australia                   72\n",
              "South Africa                71\n",
              "England                     70\n",
              "Sri Lanka                   59\n",
              "West Indies                 58\n",
              "Afghanistan                 54\n",
              "Ireland                     39\n",
              "Netherlands                 36\n",
              "Bangladesh                  30\n",
              "Scotland                    23\n",
              "United Arab Emirates        21\n",
              "Zimbabwe                    17\n",
              "Nepal                       16\n",
              "Hong Kong                   15\n",
              "Oman                        14\n",
              "Papua New Guinea            13\n",
              "Malaysia                    12\n",
              "Namibia                     12\n",
              "Kenya                       11\n",
              "Singapore                    9\n",
              "Canada                       8\n",
              "Jersey                       6\n",
              "Bermuda                      5\n",
              "Vanuatu                      4\n",
              "Germany                      4\n",
              "Guernsey                     4\n",
              "Kuwait                       3\n",
              "Qatar                        2\n",
              "Maldives                     2\n",
              "United States of America     2\n",
              "Romania                      2\n",
              "Uganda                       2\n",
              "Denmark                      2\n",
              "Nigeria                      2\n",
              "Italy                        2\n",
              "Bulgaria                     1\n",
              "Philippines                  1\n",
              "Thailand                     1\n",
              "Bahrain                      1\n",
              "Name: match_winner, dtype: int64"
            ]
          },
          "metadata": {
            "tags": []
          },
          "execution_count": 19
        }
      ]
    },
    {
      "cell_type": "code",
      "metadata": {
        "id": "0oWblr28IZYy"
      },
      "source": [
        "toss_wins = match_df['toss_winner'].value_counts(sort=True).sort_index()\n",
        "match_wins = match_df['match_winner'].value_counts(sort=True).sort_index()"
      ],
      "execution_count": 66,
      "outputs": []
    },
    {
      "cell_type": "code",
      "metadata": {
        "colab": {
          "base_uri": "https://localhost:8080/",
          "height": 753
        },
        "id": "5eWNYtgIGoG7",
        "outputId": "ff7fc32e-3e77-4783-e6c2-6693f90a238e"
      },
      "source": [
        "# Now plot toss & match winner together\n",
        "\n",
        "fig = plt.figure(figsize=(20,10))\n",
        "\n",
        "ax1 = fig.add_subplot(121)\n",
        "ax1.set_xlabel('Team')\n",
        "ax1.set_ylabel('Count of tosses won')\n",
        "ax1.set_title(\"Toss Winners\")\n",
        "toss_wins.plot(kind='bar')\n",
        "\n",
        "ax2 = fig.add_subplot(122)\n",
        "match_wins.plot(kind='bar')\n",
        "ax2.set_xlabel('Team')\n",
        "ax2.set_ylabel('Count of matches won')\n",
        "ax2.set_title(\"Match Winners\")"
      ],
      "execution_count": 67,
      "outputs": [
        {
          "output_type": "execute_result",
          "data": {
            "text/plain": [
              "Text(0.5, 1.0, 'Match Winners')"
            ]
          },
          "metadata": {
            "tags": []
          },
          "execution_count": 67
        },
        {
          "output_type": "display_data",
          "data": {
            "image/png": "[encoded data removed]",
            "text/plain": [
              "<Figure size 1440x720 with 2 Axes>"
            ]
          },
          "metadata": {
            "tags": [],
            "needs_background": "light"
          }
        }
      ]
    },
    {
      "cell_type": "code",
      "metadata": {
        "id": "zQTbFde7IvI_"
      },
      "source": [
        "home_team = match_df['home_team'].value_counts(sort=True).sort_index()\n",
        "match_wins = match_df['match_winner'].value_counts(sort=True).sort_index()"
      ],
      "execution_count": 64,
      "outputs": []
    },
    {
      "cell_type": "code",
      "metadata": {
        "colab": {
          "base_uri": "https://localhost:8080/",
          "height": 753
        },
        "id": "V8Ju8QvRIEvx",
        "outputId": "49f9f347-3f9d-488b-e65f-90953562b7a1"
      },
      "source": [
        "# Now plot toss & match winner together\n",
        "\n",
        "fig = plt.figure(figsize=(20,10))\n",
        "\n",
        "ax1 = fig.add_subplot(121)\n",
        "ax1.set_xlabel('Team')\n",
        "ax1.set_ylabel('Appearance as Home Team')\n",
        "ax1.set_title(\"Home Team\")\n",
        "home_team.plot(kind='bar')\n",
        "\n",
        "ax2 = fig.add_subplot(122)\n",
        "match_wins.plot(kind='bar')\n",
        "ax2.set_xlabel('Team')\n",
        "ax2.set_ylabel('Count of matches won')\n",
        "ax2.set_title(\"Match Winners\")"
      ],
      "execution_count": 65,
      "outputs": [
        {
          "output_type": "execute_result",
          "data": {
            "text/plain": [
              "Text(0.5, 1.0, 'Match Winners')"
            ]
          },
          "metadata": {
            "tags": []
          },
          "execution_count": 65
        },
        {
          "output_type": "display_data",
          "data": {
            "image/png": "[encoded data removed]",
            "text/plain": [
              "<Figure size 1440x720 with 2 Axes>"
            ]
          },
          "metadata": {
            "tags": [],
            "needs_background": "light"
          }
        }
      ]
    },
    {
      "cell_type": "code",
      "metadata": {
        "id": "c21eKrPkI2zd"
      },
      "source": [
        "batting_first = match_df[match_df['toss_decision'] == 'bat']"
      ],
      "execution_count": 32,
      "outputs": []
    },
    {
      "cell_type": "code",
      "metadata": {
        "colab": {
          "base_uri": "https://localhost:8080/",
          "height": 343
        },
        "id": "SHqYXwNrKk4w",
        "outputId": "9c0c7af9-7db8-4fea-ec07-5ea6d0b8ba4e"
      },
      "source": [
        "batting_first.head(10)"
      ],
      "execution_count": 33,
      "outputs": [
        {
          "output_type": "execute_result",
          "data": {
            "text/html": [
              "<div>\n",
              "<style scoped>\n",
              "    .dataframe tbody tr th:only-of-type {\n",
              "        vertical-align: middle;\n",
              "    }\n",
              "\n",
              "    .dataframe tbody tr th {\n",
              "        vertical-align: top;\n",
              "    }\n",
              "\n",
              "    .dataframe thead th {\n",
              "        text-align: right;\n",
              "    }\n",
              "</style>\n",
              "<table border=\"1\" class=\"dataframe\">\n",
              "  <thead>\n",
              "    <tr style=\"text-align: right;\">\n",
              "      <th></th>\n",
              "      <th>dates</th>\n",
              "      <th>venue</th>\n",
              "      <th>city</th>\n",
              "      <th>home_team</th>\n",
              "      <th>team_1</th>\n",
              "      <th>team_2</th>\n",
              "      <th>toss_winner</th>\n",
              "      <th>toss_decision</th>\n",
              "      <th>umpire_1</th>\n",
              "      <th>umpire_2</th>\n",
              "      <th>match_winner</th>\n",
              "    </tr>\n",
              "  </thead>\n",
              "  <tbody>\n",
              "    <tr>\n",
              "      <th>0</th>\n",
              "      <td>2005-02-17</td>\n",
              "      <td>Eden Park</td>\n",
              "      <td>Auckland</td>\n",
              "      <td>New Zealand</td>\n",
              "      <td>New Zealand</td>\n",
              "      <td>Australia</td>\n",
              "      <td>Australia</td>\n",
              "      <td>bat</td>\n",
              "      <td>BF Bowden</td>\n",
              "      <td>AL Hill</td>\n",
              "      <td>Australia</td>\n",
              "    </tr>\n",
              "    <tr>\n",
              "      <th>1</th>\n",
              "      <td>2005-06-13</td>\n",
              "      <td>The Rose Bowl</td>\n",
              "      <td>Southampton</td>\n",
              "      <td>England</td>\n",
              "      <td>England</td>\n",
              "      <td>Australia</td>\n",
              "      <td>England</td>\n",
              "      <td>bat</td>\n",
              "      <td>NJ Llong</td>\n",
              "      <td>JW Lloyds</td>\n",
              "      <td>England</td>\n",
              "    </tr>\n",
              "    <tr>\n",
              "      <th>3</th>\n",
              "      <td>2006-01-09</td>\n",
              "      <td>Brisbane Cricket Ground</td>\n",
              "      <td>Brisbane</td>\n",
              "      <td>Australia</td>\n",
              "      <td>Australia</td>\n",
              "      <td>South Africa</td>\n",
              "      <td>Australia</td>\n",
              "      <td>bat</td>\n",
              "      <td>BNJ Oxenford</td>\n",
              "      <td>RL Parry</td>\n",
              "      <td>Australia</td>\n",
              "    </tr>\n",
              "    <tr>\n",
              "      <th>5</th>\n",
              "      <td>2006-02-24</td>\n",
              "      <td>New Wanderers Stadium</td>\n",
              "      <td>Johannesburg</td>\n",
              "      <td>South Africa</td>\n",
              "      <td>South Africa</td>\n",
              "      <td>Australia</td>\n",
              "      <td>South Africa</td>\n",
              "      <td>bat</td>\n",
              "      <td>M Erasmus</td>\n",
              "      <td>KH Hurter</td>\n",
              "      <td>South Africa</td>\n",
              "    </tr>\n",
              "    <tr>\n",
              "      <th>6</th>\n",
              "      <td>2006-06-15</td>\n",
              "      <td>The Rose Bowl</td>\n",
              "      <td>Southampton</td>\n",
              "      <td>England</td>\n",
              "      <td>England</td>\n",
              "      <td>Sri Lanka</td>\n",
              "      <td>Sri Lanka</td>\n",
              "      <td>bat</td>\n",
              "      <td>IJ Gould</td>\n",
              "      <td>NJ Llong</td>\n",
              "      <td>Sri Lanka</td>\n",
              "    </tr>\n",
              "    <tr>\n",
              "      <th>7</th>\n",
              "      <td>2006-08-28</td>\n",
              "      <td>County Ground</td>\n",
              "      <td>Bristol</td>\n",
              "      <td>England</td>\n",
              "      <td>England</td>\n",
              "      <td>Pakistan</td>\n",
              "      <td>England</td>\n",
              "      <td>bat</td>\n",
              "      <td>PJ Hartley</td>\n",
              "      <td>NJ Llong</td>\n",
              "      <td>Pakistan</td>\n",
              "    </tr>\n",
              "    <tr>\n",
              "      <th>8</th>\n",
              "      <td>2006-12-01</td>\n",
              "      <td>New Wanderers Stadium</td>\n",
              "      <td>Johannesburg</td>\n",
              "      <td>South Africa</td>\n",
              "      <td>South Africa</td>\n",
              "      <td>India</td>\n",
              "      <td>South Africa</td>\n",
              "      <td>bat</td>\n",
              "      <td>IL Howell</td>\n",
              "      <td>BG Jerling</td>\n",
              "      <td>India</td>\n",
              "    </tr>\n",
              "    <tr>\n",
              "      <th>9</th>\n",
              "      <td>2006-12-22</td>\n",
              "      <td>Westpac Stadium</td>\n",
              "      <td>Wellington</td>\n",
              "      <td>New Zealand</td>\n",
              "      <td>New Zealand</td>\n",
              "      <td>Sri Lanka</td>\n",
              "      <td>New Zealand</td>\n",
              "      <td>bat</td>\n",
              "      <td>AL Hill</td>\n",
              "      <td>EA Watkin</td>\n",
              "      <td>Sri Lanka</td>\n",
              "    </tr>\n",
              "    <tr>\n",
              "      <th>11</th>\n",
              "      <td>2007-01-09</td>\n",
              "      <td>Sydney Cricket Ground</td>\n",
              "      <td>Sydney</td>\n",
              "      <td>Australia</td>\n",
              "      <td>Australia</td>\n",
              "      <td>England</td>\n",
              "      <td>Australia</td>\n",
              "      <td>bat</td>\n",
              "      <td>PD Parker</td>\n",
              "      <td>RL Parry</td>\n",
              "      <td>Australia</td>\n",
              "    </tr>\n",
              "    <tr>\n",
              "      <th>12</th>\n",
              "      <td>2007-06-28</td>\n",
              "      <td>Kennington Oval</td>\n",
              "      <td>London</td>\n",
              "      <td>England</td>\n",
              "      <td>England</td>\n",
              "      <td>West Indies</td>\n",
              "      <td>West Indies</td>\n",
              "      <td>bat</td>\n",
              "      <td>PJ Hartley</td>\n",
              "      <td>NJ Llong</td>\n",
              "      <td>West Indies</td>\n",
              "    </tr>\n",
              "  </tbody>\n",
              "</table>\n",
              "</div>"
            ],
            "text/plain": [
              "         dates                    venue          city     home_team  \\\n",
              "0   2005-02-17                Eden Park      Auckland   New Zealand   \n",
              "1   2005-06-13            The Rose Bowl   Southampton       England   \n",
              "3   2006-01-09  Brisbane Cricket Ground      Brisbane     Australia   \n",
              "5   2006-02-24    New Wanderers Stadium  Johannesburg  South Africa   \n",
              "6   2006-06-15            The Rose Bowl   Southampton       England   \n",
              "7   2006-08-28            County Ground       Bristol       England   \n",
              "8   2006-12-01    New Wanderers Stadium  Johannesburg  South Africa   \n",
              "9   2006-12-22          Westpac Stadium    Wellington   New Zealand   \n",
              "11  2007-01-09    Sydney Cricket Ground        Sydney     Australia   \n",
              "12  2007-06-28          Kennington Oval        London       England   \n",
              "\n",
              "          team_1        team_2   toss_winner toss_decision      umpire_1  \\\n",
              "0    New Zealand     Australia     Australia           bat     BF Bowden   \n",
              "1        England     Australia       England           bat      NJ Llong   \n",
              "3      Australia  South Africa     Australia           bat  BNJ Oxenford   \n",
              "5   South Africa     Australia  South Africa           bat     M Erasmus   \n",
              "6        England     Sri Lanka     Sri Lanka           bat      IJ Gould   \n",
              "7        England      Pakistan       England           bat    PJ Hartley   \n",
              "8   South Africa         India  South Africa           bat     IL Howell   \n",
              "9    New Zealand     Sri Lanka   New Zealand           bat       AL Hill   \n",
              "11     Australia       England     Australia           bat     PD Parker   \n",
              "12       England   West Indies   West Indies           bat    PJ Hartley   \n",
              "\n",
              "      umpire_2  match_winner  \n",
              "0      AL Hill     Australia  \n",
              "1    JW Lloyds       England  \n",
              "3     RL Parry     Australia  \n",
              "5    KH Hurter  South Africa  \n",
              "6     NJ Llong     Sri Lanka  \n",
              "7     NJ Llong      Pakistan  \n",
              "8   BG Jerling         India  \n",
              "9    EA Watkin     Sri Lanka  \n",
              "11    RL Parry     Australia  \n",
              "12    NJ Llong   West Indies  "
            ]
          },
          "metadata": {
            "tags": []
          },
          "execution_count": 33
        }
      ]
    },
    {
      "cell_type": "code",
      "metadata": {
        "id": "o6yaHQOLKp1Q"
      },
      "source": [
        "bat_first = batting_first['toss_winner'].value_counts(sort=True).sort_index()\n",
        "match_wins = batting_first['match_winner'].value_counts(sort=True).sort_index()"
      ],
      "execution_count": 62,
      "outputs": []
    },
    {
      "cell_type": "code",
      "metadata": {
        "colab": {
          "base_uri": "https://localhost:8080/",
          "height": 753
        },
        "id": "pG2fvHNSLjsw",
        "outputId": "d5d48b20-798d-4060-9712-bf634698ae0b"
      },
      "source": [
        "fig = plt.figure(figsize=(20,10))\n",
        "\n",
        "ax1 = fig.add_subplot(121)\n",
        "ax1.set_xlabel('Team')\n",
        "ax1.set_ylabel('Team total batting first')\n",
        "ax1.set_title(\"Bat First\")\n",
        "bat_first.plot(kind='bar')\n",
        "\n",
        "ax2 = fig.add_subplot(122)\n",
        "match_wins.plot(kind='bar')\n",
        "ax2.set_xlabel('Team')\n",
        "ax2.set_ylabel('Count of matches won')\n",
        "ax2.set_title(\"Match Winners\")"
      ],
      "execution_count": 63,
      "outputs": [
        {
          "output_type": "execute_result",
          "data": {
            "text/plain": [
              "Text(0.5, 1.0, 'Match Winners')"
            ]
          },
          "metadata": {
            "tags": []
          },
          "execution_count": 63
        },
        {
          "output_type": "display_data",
          "data": {
            "image/png": "[encoded data removed]",
            "text/plain": [
              "<Figure size 1440x720 with 2 Axes>"
            ]
          },
          "metadata": {
            "tags": [],
            "needs_background": "light"
          }
        }
      ]
    },
    {
      "cell_type": "code",
      "metadata": {
        "id": "DWvuf8IfL9Vg"
      },
      "source": [
        "bowling_first = match_df[match_df['toss_decision'] == 'field']"
      ],
      "execution_count": 38,
      "outputs": []
    },
    {
      "cell_type": "code",
      "metadata": {
        "colab": {
          "base_uri": "https://localhost:8080/",
          "height": 343
        },
        "id": "znoMp02xM7M9",
        "outputId": "0b4242ea-2495-4a56-ec26-1c667886c1bd"
      },
      "source": [
        "bowling_first.head(10)"
      ],
      "execution_count": 39,
      "outputs": [
        {
          "output_type": "execute_result",
          "data": {
            "text/html": [
              "<div>\n",
              "<style scoped>\n",
              "    .dataframe tbody tr th:only-of-type {\n",
              "        vertical-align: middle;\n",
              "    }\n",
              "\n",
              "    .dataframe tbody tr th {\n",
              "        vertical-align: top;\n",
              "    }\n",
              "\n",
              "    .dataframe thead th {\n",
              "        text-align: right;\n",
              "    }\n",
              "</style>\n",
              "<table border=\"1\" class=\"dataframe\">\n",
              "  <thead>\n",
              "    <tr style=\"text-align: right;\">\n",
              "      <th></th>\n",
              "      <th>dates</th>\n",
              "      <th>venue</th>\n",
              "      <th>city</th>\n",
              "      <th>home_team</th>\n",
              "      <th>team_1</th>\n",
              "      <th>team_2</th>\n",
              "      <th>toss_winner</th>\n",
              "      <th>toss_decision</th>\n",
              "      <th>umpire_1</th>\n",
              "      <th>umpire_2</th>\n",
              "      <th>match_winner</th>\n",
              "    </tr>\n",
              "  </thead>\n",
              "  <tbody>\n",
              "    <tr>\n",
              "      <th>2</th>\n",
              "      <td>2005-10-21</td>\n",
              "      <td>New Wanderers Stadium</td>\n",
              "      <td>Johannesburg</td>\n",
              "      <td>South Africa</td>\n",
              "      <td>South Africa</td>\n",
              "      <td>New Zealand</td>\n",
              "      <td>New Zealand</td>\n",
              "      <td>field</td>\n",
              "      <td>IL Howell</td>\n",
              "      <td>BG Jerling</td>\n",
              "      <td>New Zealand</td>\n",
              "    </tr>\n",
              "    <tr>\n",
              "      <th>4</th>\n",
              "      <td>2006-02-16</td>\n",
              "      <td>Eden Park</td>\n",
              "      <td>Auckland</td>\n",
              "      <td>New Zealand</td>\n",
              "      <td>West Indies</td>\n",
              "      <td>New Zealand</td>\n",
              "      <td>New Zealand</td>\n",
              "      <td>field</td>\n",
              "      <td>BF Bowden</td>\n",
              "      <td>AL Hill</td>\n",
              "      <td>New Zealand</td>\n",
              "    </tr>\n",
              "    <tr>\n",
              "      <th>10</th>\n",
              "      <td>2006-12-26</td>\n",
              "      <td>Eden Park</td>\n",
              "      <td>Auckland</td>\n",
              "      <td>New Zealand</td>\n",
              "      <td>New Zealand</td>\n",
              "      <td>Sri Lanka</td>\n",
              "      <td>New Zealand</td>\n",
              "      <td>field</td>\n",
              "      <td>BF Bowden</td>\n",
              "      <td>AL Hill</td>\n",
              "      <td>New Zealand</td>\n",
              "    </tr>\n",
              "    <tr>\n",
              "      <th>14</th>\n",
              "      <td>2007-09-01</td>\n",
              "      <td>Gymkhana Club Ground</td>\n",
              "      <td>Nairobi</td>\n",
              "      <td>Kenya</td>\n",
              "      <td>Kenya</td>\n",
              "      <td>Bangladesh</td>\n",
              "      <td>Bangladesh</td>\n",
              "      <td>field</td>\n",
              "      <td>R DMello</td>\n",
              "      <td>SR Modi</td>\n",
              "      <td>Bangladesh</td>\n",
              "    </tr>\n",
              "    <tr>\n",
              "      <th>15</th>\n",
              "      <td>2007-09-02</td>\n",
              "      <td>Gymkhana Club Ground</td>\n",
              "      <td>Nairobi</td>\n",
              "      <td>none</td>\n",
              "      <td>Bangladesh</td>\n",
              "      <td>Pakistan</td>\n",
              "      <td>Bangladesh</td>\n",
              "      <td>field</td>\n",
              "      <td>R DMello</td>\n",
              "      <td>SR Modi</td>\n",
              "      <td>Pakistan</td>\n",
              "    </tr>\n",
              "    <tr>\n",
              "      <th>17</th>\n",
              "      <td>2007-09-11</td>\n",
              "      <td>New Wanderers Stadium</td>\n",
              "      <td>Johannesburg</td>\n",
              "      <td>South Africa</td>\n",
              "      <td>South Africa</td>\n",
              "      <td>West Indies</td>\n",
              "      <td>South Africa</td>\n",
              "      <td>field</td>\n",
              "      <td>MR Benson</td>\n",
              "      <td>DJ Harper</td>\n",
              "      <td>South Africa</td>\n",
              "    </tr>\n",
              "    <tr>\n",
              "      <th>18</th>\n",
              "      <td>2007-09-12</td>\n",
              "      <td>Kingsmead</td>\n",
              "      <td>Durban</td>\n",
              "      <td>none</td>\n",
              "      <td>Kenya</td>\n",
              "      <td>New Zealand</td>\n",
              "      <td>New Zealand</td>\n",
              "      <td>field</td>\n",
              "      <td>BR Doctrove</td>\n",
              "      <td>SJA Taufel</td>\n",
              "      <td>New Zealand</td>\n",
              "    </tr>\n",
              "    <tr>\n",
              "      <th>19</th>\n",
              "      <td>2007-09-12</td>\n",
              "      <td>Kingsmead</td>\n",
              "      <td>Durban</td>\n",
              "      <td>none</td>\n",
              "      <td>Pakistan</td>\n",
              "      <td>Scotland</td>\n",
              "      <td>Scotland</td>\n",
              "      <td>field</td>\n",
              "      <td>SJ Davis</td>\n",
              "      <td>SJA Taufel</td>\n",
              "      <td>Pakistan</td>\n",
              "    </tr>\n",
              "    <tr>\n",
              "      <th>21</th>\n",
              "      <td>2007-09-13</td>\n",
              "      <td>New Wanderers Stadium</td>\n",
              "      <td>Johannesburg</td>\n",
              "      <td>none</td>\n",
              "      <td>Bangladesh</td>\n",
              "      <td>West Indies</td>\n",
              "      <td>Bangladesh</td>\n",
              "      <td>field</td>\n",
              "      <td>MR Benson</td>\n",
              "      <td>NJ Llong</td>\n",
              "      <td>Bangladesh</td>\n",
              "    </tr>\n",
              "    <tr>\n",
              "      <th>23</th>\n",
              "      <td>2007-09-14</td>\n",
              "      <td>Kingsmead</td>\n",
              "      <td>Durban</td>\n",
              "      <td>none</td>\n",
              "      <td>Pakistan</td>\n",
              "      <td>India</td>\n",
              "      <td>India</td>\n",
              "      <td>field</td>\n",
              "      <td>BR Doctrove</td>\n",
              "      <td>SJA Taufel</td>\n",
              "      <td>Pakistan</td>\n",
              "    </tr>\n",
              "  </tbody>\n",
              "</table>\n",
              "</div>"
            ],
            "text/plain": [
              "         dates                  venue          city     home_team  \\\n",
              "2   2005-10-21  New Wanderers Stadium  Johannesburg  South Africa   \n",
              "4   2006-02-16              Eden Park      Auckland   New Zealand   \n",
              "10  2006-12-26              Eden Park      Auckland   New Zealand   \n",
              "14  2007-09-01   Gymkhana Club Ground       Nairobi         Kenya   \n",
              "15  2007-09-02   Gymkhana Club Ground       Nairobi          none   \n",
              "17  2007-09-11  New Wanderers Stadium  Johannesburg  South Africa   \n",
              "18  2007-09-12              Kingsmead        Durban          none   \n",
              "19  2007-09-12              Kingsmead        Durban          none   \n",
              "21  2007-09-13  New Wanderers Stadium  Johannesburg          none   \n",
              "23  2007-09-14              Kingsmead        Durban          none   \n",
              "\n",
              "          team_1       team_2   toss_winner toss_decision     umpire_1  \\\n",
              "2   South Africa  New Zealand   New Zealand         field    IL Howell   \n",
              "4    West Indies  New Zealand   New Zealand         field    BF Bowden   \n",
              "10   New Zealand    Sri Lanka   New Zealand         field    BF Bowden   \n",
              "14         Kenya   Bangladesh    Bangladesh         field     R DMello   \n",
              "15    Bangladesh     Pakistan    Bangladesh         field     R DMello   \n",
              "17  South Africa  West Indies  South Africa         field    MR Benson   \n",
              "18         Kenya  New Zealand   New Zealand         field  BR Doctrove   \n",
              "19      Pakistan     Scotland      Scotland         field     SJ Davis   \n",
              "21    Bangladesh  West Indies    Bangladesh         field    MR Benson   \n",
              "23      Pakistan        India         India         field  BR Doctrove   \n",
              "\n",
              "      umpire_2  match_winner  \n",
              "2   BG Jerling   New Zealand  \n",
              "4      AL Hill   New Zealand  \n",
              "10     AL Hill   New Zealand  \n",
              "14     SR Modi    Bangladesh  \n",
              "15     SR Modi      Pakistan  \n",
              "17   DJ Harper  South Africa  \n",
              "18  SJA Taufel   New Zealand  \n",
              "19  SJA Taufel      Pakistan  \n",
              "21    NJ Llong    Bangladesh  \n",
              "23  SJA Taufel      Pakistan  "
            ]
          },
          "metadata": {
            "tags": []
          },
          "execution_count": 39
        }
      ]
    },
    {
      "cell_type": "code",
      "metadata": {
        "id": "u4wlXGWqM_qu"
      },
      "source": [
        "bowl_first = bowling_first['toss_winner'].value_counts(sort=True).sort_index()\n",
        "match_wins = bowling_first['match_winner'].value_counts(sort=True).sort_index()"
      ],
      "execution_count": 60,
      "outputs": []
    },
    {
      "cell_type": "code",
      "metadata": {
        "colab": {
          "base_uri": "https://localhost:8080/",
          "height": 753
        },
        "id": "wQvxlnhCNSTk",
        "outputId": "b2ddba30-a4d4-4f73-9dde-c2689d0d3728"
      },
      "source": [
        "fig = plt.figure(figsize=(20,10))\n",
        "\n",
        "ax1 = fig.add_subplot(121)\n",
        "ax1.set_xlabel('Team')\n",
        "ax1.set_ylabel('Team total bowling first')\n",
        "ax1.set_title(\"Bowl First\")\n",
        "bowl_first.plot(kind='bar')\n",
        "\n",
        "ax2 = fig.add_subplot(122)\n",
        "match_wins.plot(kind='bar')\n",
        "ax2.set_xlabel('Team')\n",
        "ax2.set_ylabel('Count of matches won')\n",
        "ax2.set_title(\"Match Winners\")"
      ],
      "execution_count": 61,
      "outputs": [
        {
          "output_type": "execute_result",
          "data": {
            "text/plain": [
              "Text(0.5, 1.0, 'Match Winners')"
            ]
          },
          "metadata": {
            "tags": []
          },
          "execution_count": 61
        },
        {
          "output_type": "display_data",
          "data": {
            "image/png": "[encoded data removed]",
            "text/plain": [
              "<Figure size 1440x720 with 2 Axes>"
            ]
          },
          "metadata": {
            "tags": [],
            "needs_background": "light"
          }
        }
      ]
    },
    {
      "cell_type": "code",
      "metadata": {
        "colab": {
          "base_uri": "https://localhost:8080/"
        },
        "id": "MTUTpAG-Nc14",
        "outputId": "9b23fb2a-be9b-4ba4-f55f-3ebca17e1afd"
      },
      "source": [
        "batting_first['match_winner'].value_counts().sort_index()"
      ],
      "execution_count": 47,
      "outputs": [
        {
          "output_type": "execute_result",
          "data": {
            "text/plain": [
              "Afghanistan                 38\n",
              "Australia                   39\n",
              "Bahrain                      1\n",
              "Bangladesh                  10\n",
              "Bermuda                      4\n",
              "Bulgaria                     1\n",
              "Canada                       5\n",
              "Denmark                      2\n",
              "England                     30\n",
              "Guernsey                     1\n",
              "Hong Kong                    8\n",
              "India                       24\n",
              "Ireland                     20\n",
              "Jersey                       3\n",
              "Kenya                        8\n",
              "Malaysia                    11\n",
              "Maldives                     1\n",
              "Namibia                      7\n",
              "Nepal                        6\n",
              "Netherlands                 19\n",
              "New Zealand                 29\n",
              "Nigeria                      1\n",
              "Oman                         6\n",
              "Pakistan                    55\n",
              "Papua New Guinea             8\n",
              "Qatar                        2\n",
              "Romania                      2\n",
              "Scotland                    12\n",
              "Singapore                    7\n",
              "South Africa                26\n",
              "Sri Lanka                   30\n",
              "Uganda                       1\n",
              "United Arab Emirates        10\n",
              "United States of America     1\n",
              "Vanuatu                      4\n",
              "West Indies                 29\n",
              "Zimbabwe                    11\n",
              "Name: match_winner, dtype: int64"
            ]
          },
          "metadata": {
            "tags": []
          },
          "execution_count": 47
        }
      ]
    },
    {
      "cell_type": "code",
      "metadata": {
        "colab": {
          "base_uri": "https://localhost:8080/"
        },
        "id": "a0mOenhDOBb5",
        "outputId": "72b1c7f4-ac9a-424b-b261-50c3bbb8771c"
      },
      "source": [
        "bowling_first['match_winner'].value_counts().sort_index()"
      ],
      "execution_count": 46,
      "outputs": [
        {
          "output_type": "execute_result",
          "data": {
            "text/plain": [
              "Afghanistan                 16\n",
              "Australia                   33\n",
              "Bangladesh                  20\n",
              "Bermuda                      1\n",
              "Canada                       3\n",
              "England                     40\n",
              "Germany                      4\n",
              "Guernsey                     3\n",
              "Hong Kong                    7\n",
              "India                       66\n",
              "Ireland                     19\n",
              "Italy                        2\n",
              "Jersey                       3\n",
              "Kenya                        3\n",
              "Kuwait                       3\n",
              "Malaysia                     1\n",
              "Maldives                     1\n",
              "Namibia                      5\n",
              "Nepal                       10\n",
              "Netherlands                 17\n",
              "New Zealand                 48\n",
              "Nigeria                      1\n",
              "Oman                         8\n",
              "Pakistan                    43\n",
              "Papua New Guinea             5\n",
              "Philippines                  1\n",
              "Scotland                    11\n",
              "Singapore                    2\n",
              "South Africa                45\n",
              "Sri Lanka                   29\n",
              "Thailand                     1\n",
              "Uganda                       1\n",
              "United Arab Emirates        11\n",
              "United States of America     1\n",
              "West Indies                 29\n",
              "Zimbabwe                     6\n",
              "Name: match_winner, dtype: int64"
            ]
          },
          "metadata": {
            "tags": []
          },
          "execution_count": 46
        }
      ]
    },
    {
      "cell_type": "code",
      "metadata": {
        "id": "yl7ut_YdOH8s"
      },
      "source": [
        "home_team_one = match_df[match_df['home_team'] == match_df['team_1']]"
      ],
      "execution_count": 51,
      "outputs": []
    },
    {
      "cell_type": "code",
      "metadata": {
        "colab": {
          "base_uri": "https://localhost:8080/",
          "height": 343
        },
        "id": "4UsIAS5CPSL9",
        "outputId": "efa0b8b9-62db-405c-e728-7170c6e0b9cd"
      },
      "source": [
        "home_team_one.head(10)"
      ],
      "execution_count": 52,
      "outputs": [
        {
          "output_type": "execute_result",
          "data": {
            "text/html": [
              "<div>\n",
              "<style scoped>\n",
              "    .dataframe tbody tr th:only-of-type {\n",
              "        vertical-align: middle;\n",
              "    }\n",
              "\n",
              "    .dataframe tbody tr th {\n",
              "        vertical-align: top;\n",
              "    }\n",
              "\n",
              "    .dataframe thead th {\n",
              "        text-align: right;\n",
              "    }\n",
              "</style>\n",
              "<table border=\"1\" class=\"dataframe\">\n",
              "  <thead>\n",
              "    <tr style=\"text-align: right;\">\n",
              "      <th></th>\n",
              "      <th>dates</th>\n",
              "      <th>venue</th>\n",
              "      <th>city</th>\n",
              "      <th>home_team</th>\n",
              "      <th>team_1</th>\n",
              "      <th>team_2</th>\n",
              "      <th>toss_winner</th>\n",
              "      <th>toss_decision</th>\n",
              "      <th>umpire_1</th>\n",
              "      <th>umpire_2</th>\n",
              "      <th>match_winner</th>\n",
              "    </tr>\n",
              "  </thead>\n",
              "  <tbody>\n",
              "    <tr>\n",
              "      <th>0</th>\n",
              "      <td>2005-02-17</td>\n",
              "      <td>Eden Park</td>\n",
              "      <td>Auckland</td>\n",
              "      <td>New Zealand</td>\n",
              "      <td>New Zealand</td>\n",
              "      <td>Australia</td>\n",
              "      <td>Australia</td>\n",
              "      <td>bat</td>\n",
              "      <td>BF Bowden</td>\n",
              "      <td>AL Hill</td>\n",
              "      <td>Australia</td>\n",
              "    </tr>\n",
              "    <tr>\n",
              "      <th>1</th>\n",
              "      <td>2005-06-13</td>\n",
              "      <td>The Rose Bowl</td>\n",
              "      <td>Southampton</td>\n",
              "      <td>England</td>\n",
              "      <td>England</td>\n",
              "      <td>Australia</td>\n",
              "      <td>England</td>\n",
              "      <td>bat</td>\n",
              "      <td>NJ Llong</td>\n",
              "      <td>JW Lloyds</td>\n",
              "      <td>England</td>\n",
              "    </tr>\n",
              "    <tr>\n",
              "      <th>2</th>\n",
              "      <td>2005-10-21</td>\n",
              "      <td>New Wanderers Stadium</td>\n",
              "      <td>Johannesburg</td>\n",
              "      <td>South Africa</td>\n",
              "      <td>South Africa</td>\n",
              "      <td>New Zealand</td>\n",
              "      <td>New Zealand</td>\n",
              "      <td>field</td>\n",
              "      <td>IL Howell</td>\n",
              "      <td>BG Jerling</td>\n",
              "      <td>New Zealand</td>\n",
              "    </tr>\n",
              "    <tr>\n",
              "      <th>3</th>\n",
              "      <td>2006-01-09</td>\n",
              "      <td>Brisbane Cricket Ground</td>\n",
              "      <td>Brisbane</td>\n",
              "      <td>Australia</td>\n",
              "      <td>Australia</td>\n",
              "      <td>South Africa</td>\n",
              "      <td>Australia</td>\n",
              "      <td>bat</td>\n",
              "      <td>BNJ Oxenford</td>\n",
              "      <td>RL Parry</td>\n",
              "      <td>Australia</td>\n",
              "    </tr>\n",
              "    <tr>\n",
              "      <th>5</th>\n",
              "      <td>2006-02-24</td>\n",
              "      <td>New Wanderers Stadium</td>\n",
              "      <td>Johannesburg</td>\n",
              "      <td>South Africa</td>\n",
              "      <td>South Africa</td>\n",
              "      <td>Australia</td>\n",
              "      <td>South Africa</td>\n",
              "      <td>bat</td>\n",
              "      <td>M Erasmus</td>\n",
              "      <td>KH Hurter</td>\n",
              "      <td>South Africa</td>\n",
              "    </tr>\n",
              "    <tr>\n",
              "      <th>6</th>\n",
              "      <td>2006-06-15</td>\n",
              "      <td>The Rose Bowl</td>\n",
              "      <td>Southampton</td>\n",
              "      <td>England</td>\n",
              "      <td>England</td>\n",
              "      <td>Sri Lanka</td>\n",
              "      <td>Sri Lanka</td>\n",
              "      <td>bat</td>\n",
              "      <td>IJ Gould</td>\n",
              "      <td>NJ Llong</td>\n",
              "      <td>Sri Lanka</td>\n",
              "    </tr>\n",
              "    <tr>\n",
              "      <th>7</th>\n",
              "      <td>2006-08-28</td>\n",
              "      <td>County Ground</td>\n",
              "      <td>Bristol</td>\n",
              "      <td>England</td>\n",
              "      <td>England</td>\n",
              "      <td>Pakistan</td>\n",
              "      <td>England</td>\n",
              "      <td>bat</td>\n",
              "      <td>PJ Hartley</td>\n",
              "      <td>NJ Llong</td>\n",
              "      <td>Pakistan</td>\n",
              "    </tr>\n",
              "    <tr>\n",
              "      <th>8</th>\n",
              "      <td>2006-12-01</td>\n",
              "      <td>New Wanderers Stadium</td>\n",
              "      <td>Johannesburg</td>\n",
              "      <td>South Africa</td>\n",
              "      <td>South Africa</td>\n",
              "      <td>India</td>\n",
              "      <td>South Africa</td>\n",
              "      <td>bat</td>\n",
              "      <td>IL Howell</td>\n",
              "      <td>BG Jerling</td>\n",
              "      <td>India</td>\n",
              "    </tr>\n",
              "    <tr>\n",
              "      <th>9</th>\n",
              "      <td>2006-12-22</td>\n",
              "      <td>Westpac Stadium</td>\n",
              "      <td>Wellington</td>\n",
              "      <td>New Zealand</td>\n",
              "      <td>New Zealand</td>\n",
              "      <td>Sri Lanka</td>\n",
              "      <td>New Zealand</td>\n",
              "      <td>bat</td>\n",
              "      <td>AL Hill</td>\n",
              "      <td>EA Watkin</td>\n",
              "      <td>Sri Lanka</td>\n",
              "    </tr>\n",
              "    <tr>\n",
              "      <th>10</th>\n",
              "      <td>2006-12-26</td>\n",
              "      <td>Eden Park</td>\n",
              "      <td>Auckland</td>\n",
              "      <td>New Zealand</td>\n",
              "      <td>New Zealand</td>\n",
              "      <td>Sri Lanka</td>\n",
              "      <td>New Zealand</td>\n",
              "      <td>field</td>\n",
              "      <td>BF Bowden</td>\n",
              "      <td>AL Hill</td>\n",
              "      <td>New Zealand</td>\n",
              "    </tr>\n",
              "  </tbody>\n",
              "</table>\n",
              "</div>"
            ],
            "text/plain": [
              "         dates                    venue          city     home_team  \\\n",
              "0   2005-02-17                Eden Park      Auckland   New Zealand   \n",
              "1   2005-06-13            The Rose Bowl   Southampton       England   \n",
              "2   2005-10-21    New Wanderers Stadium  Johannesburg  South Africa   \n",
              "3   2006-01-09  Brisbane Cricket Ground      Brisbane     Australia   \n",
              "5   2006-02-24    New Wanderers Stadium  Johannesburg  South Africa   \n",
              "6   2006-06-15            The Rose Bowl   Southampton       England   \n",
              "7   2006-08-28            County Ground       Bristol       England   \n",
              "8   2006-12-01    New Wanderers Stadium  Johannesburg  South Africa   \n",
              "9   2006-12-22          Westpac Stadium    Wellington   New Zealand   \n",
              "10  2006-12-26                Eden Park      Auckland   New Zealand   \n",
              "\n",
              "          team_1        team_2   toss_winner toss_decision      umpire_1  \\\n",
              "0    New Zealand     Australia     Australia           bat     BF Bowden   \n",
              "1        England     Australia       England           bat      NJ Llong   \n",
              "2   South Africa   New Zealand   New Zealand         field     IL Howell   \n",
              "3      Australia  South Africa     Australia           bat  BNJ Oxenford   \n",
              "5   South Africa     Australia  South Africa           bat     M Erasmus   \n",
              "6        England     Sri Lanka     Sri Lanka           bat      IJ Gould   \n",
              "7        England      Pakistan       England           bat    PJ Hartley   \n",
              "8   South Africa         India  South Africa           bat     IL Howell   \n",
              "9    New Zealand     Sri Lanka   New Zealand           bat       AL Hill   \n",
              "10   New Zealand     Sri Lanka   New Zealand         field     BF Bowden   \n",
              "\n",
              "      umpire_2  match_winner  \n",
              "0      AL Hill     Australia  \n",
              "1    JW Lloyds       England  \n",
              "2   BG Jerling   New Zealand  \n",
              "3     RL Parry     Australia  \n",
              "5    KH Hurter  South Africa  \n",
              "6     NJ Llong     Sri Lanka  \n",
              "7     NJ Llong      Pakistan  \n",
              "8   BG Jerling         India  \n",
              "9    EA Watkin     Sri Lanka  \n",
              "10     AL Hill   New Zealand  "
            ]
          },
          "metadata": {
            "tags": []
          },
          "execution_count": 52
        }
      ]
    },
    {
      "cell_type": "code",
      "metadata": {
        "colab": {
          "base_uri": "https://localhost:8080/"
        },
        "id": "vt8MTb0FStDx",
        "outputId": "f27c04b1-2869-4fea-a1da-bbc3292ada24"
      },
      "source": [
        "home_team_one.info()"
      ],
      "execution_count": 68,
      "outputs": [
        {
          "output_type": "stream",
          "text": [
            "<class 'pandas.core.frame.DataFrame'>\n",
            "Int64Index: 483 entries, 0 to 969\n",
            "Data columns (total 11 columns):\n",
            " #   Column         Non-Null Count  Dtype \n",
            "---  ------         --------------  ----- \n",
            " 0   dates          483 non-null    object\n",
            " 1   venue          483 non-null    object\n",
            " 2   city           483 non-null    object\n",
            " 3   home_team      483 non-null    object\n",
            " 4   team_1         483 non-null    object\n",
            " 5   team_2         483 non-null    object\n",
            " 6   toss_winner    483 non-null    object\n",
            " 7   toss_decision  483 non-null    object\n",
            " 8   umpire_1       483 non-null    object\n",
            " 9   umpire_2       483 non-null    object\n",
            " 10  match_winner   483 non-null    object\n",
            "dtypes: object(11)\n",
            "memory usage: 45.3+ KB\n"
          ],
          "name": "stdout"
        }
      ]
    },
    {
      "cell_type": "code",
      "metadata": {
        "colab": {
          "base_uri": "https://localhost:8080/"
        },
        "id": "BLbfDeL4Pnes",
        "outputId": "d11d265f-65bf-47b6-ee07-45eef4729952"
      },
      "source": [
        "home_team_one['match_winner'].value_counts().sort_index()"
      ],
      "execution_count": 53,
      "outputs": [
        {
          "output_type": "execute_result",
          "data": {
            "text/plain": [
              "Afghanistan              8\n",
              "Australia               48\n",
              "Bangladesh              24\n",
              "Bermuda                  3\n",
              "England                 43\n",
              "Hong Kong                5\n",
              "India                   53\n",
              "Ireland                 11\n",
              "Italy                    1\n",
              "Jersey                   1\n",
              "Kenya                    1\n",
              "Malaysia                10\n",
              "Namibia                  5\n",
              "Nepal                    9\n",
              "Netherlands             12\n",
              "New Zealand             46\n",
              "Oman                     5\n",
              "Pakistan                37\n",
              "Papua New Guinea         4\n",
              "Romania                  1\n",
              "Scotland                 6\n",
              "Singapore                5\n",
              "South Africa            49\n",
              "Sri Lanka               33\n",
              "Uganda                   2\n",
              "United Arab Emirates    14\n",
              "Vanuatu                  3\n",
              "West Indies             35\n",
              "Zimbabwe                 9\n",
              "Name: match_winner, dtype: int64"
            ]
          },
          "metadata": {
            "tags": []
          },
          "execution_count": 53
        }
      ]
    },
    {
      "cell_type": "code",
      "metadata": {
        "id": "vMh2Ja9wPVIL"
      },
      "source": [
        "home_team_onee = home_team_one['team_1'].value_counts(sort=True).sort_index()\n",
        "match_wins = bowling_first['match_winner'].value_counts(sort=True).sort_index()"
      ],
      "execution_count": 58,
      "outputs": []
    },
    {
      "cell_type": "code",
      "metadata": {
        "colab": {
          "base_uri": "https://localhost:8080/",
          "height": 753
        },
        "id": "BrIg8oEZPe11",
        "outputId": "7124493e-b606-4f55-e36f-71d3e6e4cc02"
      },
      "source": [
        "fig = plt.figure(figsize=(20,10))\n",
        "\n",
        "ax1 = fig.add_subplot(121)\n",
        "ax1.set_xlabel('Team')\n",
        "ax1.set_ylabel('Team 1 as home team')\n",
        "ax1.set_title(\"Team 1\")\n",
        "home_team_onee.plot(kind='bar')\n",
        "\n",
        "ax2 = fig.add_subplot(122)\n",
        "match_wins.plot(kind='bar')\n",
        "ax2.set_xlabel('Team')\n",
        "ax2.set_ylabel('Count of matches won')\n",
        "ax2.set_title(\"Match Winners\")"
      ],
      "execution_count": 59,
      "outputs": [
        {
          "output_type": "execute_result",
          "data": {
            "text/plain": [
              "Text(0.5, 1.0, 'Match Winners')"
            ]
          },
          "metadata": {
            "tags": []
          },
          "execution_count": 59
        },
        {
          "output_type": "display_data",
          "data": {
            "image/png": "[encoded data removed]",
            "text/plain": [
              "<Figure size 1440x720 with 2 Axes>"
            ]
          },
          "metadata": {
            "tags": [],
            "needs_background": "light"
          }
        }
      ]
    },
    {
      "cell_type": "code",
      "metadata": {
        "id": "R6v494j0RKtQ"
      },
      "source": [
        "home_team_two = match_df[match_df['home_team'] == match_df['team_2']]"
      ],
      "execution_count": 69,
      "outputs": []
    },
    {
      "cell_type": "code",
      "metadata": {
        "colab": {
          "base_uri": "https://localhost:8080/",
          "height": 343
        },
        "id": "aOXRKqJ4S5Qx",
        "outputId": "5729990d-b173-442b-942e-dd74a56fd1f3"
      },
      "source": [
        "home_team_two.head(10)"
      ],
      "execution_count": 70,
      "outputs": [
        {
          "output_type": "execute_result",
          "data": {
            "text/html": [
              "<div>\n",
              "<style scoped>\n",
              "    .dataframe tbody tr th:only-of-type {\n",
              "        vertical-align: middle;\n",
              "    }\n",
              "\n",
              "    .dataframe tbody tr th {\n",
              "        vertical-align: top;\n",
              "    }\n",
              "\n",
              "    .dataframe thead th {\n",
              "        text-align: right;\n",
              "    }\n",
              "</style>\n",
              "<table border=\"1\" class=\"dataframe\">\n",
              "  <thead>\n",
              "    <tr style=\"text-align: right;\">\n",
              "      <th></th>\n",
              "      <th>dates</th>\n",
              "      <th>venue</th>\n",
              "      <th>city</th>\n",
              "      <th>home_team</th>\n",
              "      <th>team_1</th>\n",
              "      <th>team_2</th>\n",
              "      <th>toss_winner</th>\n",
              "      <th>toss_decision</th>\n",
              "      <th>umpire_1</th>\n",
              "      <th>umpire_2</th>\n",
              "      <th>match_winner</th>\n",
              "    </tr>\n",
              "  </thead>\n",
              "  <tbody>\n",
              "    <tr>\n",
              "      <th>4</th>\n",
              "      <td>2006-02-16</td>\n",
              "      <td>Eden Park</td>\n",
              "      <td>Auckland</td>\n",
              "      <td>New Zealand</td>\n",
              "      <td>West Indies</td>\n",
              "      <td>New Zealand</td>\n",
              "      <td>New Zealand</td>\n",
              "      <td>field</td>\n",
              "      <td>BF Bowden</td>\n",
              "      <td>AL Hill</td>\n",
              "      <td>New Zealand</td>\n",
              "    </tr>\n",
              "    <tr>\n",
              "      <th>60</th>\n",
              "      <td>2008-12-26</td>\n",
              "      <td>Eden Park</td>\n",
              "      <td>Auckland</td>\n",
              "      <td>New Zealand</td>\n",
              "      <td>West Indies</td>\n",
              "      <td>New Zealand</td>\n",
              "      <td>New Zealand</td>\n",
              "      <td>bat</td>\n",
              "      <td>BF Bowden</td>\n",
              "      <td>AL Hill</td>\n",
              "      <td>New Zealand</td>\n",
              "    </tr>\n",
              "    <tr>\n",
              "      <th>101</th>\n",
              "      <td>2009-08-30</td>\n",
              "      <td>Old Trafford</td>\n",
              "      <td>Manchester</td>\n",
              "      <td>England</td>\n",
              "      <td>Australia</td>\n",
              "      <td>England</td>\n",
              "      <td>England</td>\n",
              "      <td>field</td>\n",
              "      <td>IJ Gould</td>\n",
              "      <td>RA Kettleborough</td>\n",
              "      <td>England</td>\n",
              "    </tr>\n",
              "    <tr>\n",
              "      <th>124</th>\n",
              "      <td>2010-02-28</td>\n",
              "      <td>AMI Stadium</td>\n",
              "      <td>Christchurch</td>\n",
              "      <td>New Zealand</td>\n",
              "      <td>Australia</td>\n",
              "      <td>New Zealand</td>\n",
              "      <td>New Zealand</td>\n",
              "      <td>bat</td>\n",
              "      <td>CB Gaffaney</td>\n",
              "      <td>AL Hill</td>\n",
              "      <td>New Zealand</td>\n",
              "    </tr>\n",
              "    <tr>\n",
              "      <th>230</th>\n",
              "      <td>2012-09-10</td>\n",
              "      <td>Old Trafford</td>\n",
              "      <td>Manchester</td>\n",
              "      <td>England</td>\n",
              "      <td>South Africa</td>\n",
              "      <td>England</td>\n",
              "      <td>England</td>\n",
              "      <td>field</td>\n",
              "      <td>RJ Bailey</td>\n",
              "      <td>RK Illingworth</td>\n",
              "      <td>England</td>\n",
              "    </tr>\n",
              "    <tr>\n",
              "      <th>245</th>\n",
              "      <td>2012-09-27</td>\n",
              "      <td>Pallekele International Cricket Stadium</td>\n",
              "      <td>Kandy</td>\n",
              "      <td>Sri Lanka</td>\n",
              "      <td>New Zealand</td>\n",
              "      <td>Sri Lanka</td>\n",
              "      <td>Sri Lanka</td>\n",
              "      <td>bat</td>\n",
              "      <td>Aleem Dar</td>\n",
              "      <td>SJA Taufel</td>\n",
              "      <td>New Zealand</td>\n",
              "    </tr>\n",
              "    <tr>\n",
              "      <th>260</th>\n",
              "      <td>2012-10-30</td>\n",
              "      <td>Pallekele International Cricket Stadium</td>\n",
              "      <td>Kandy</td>\n",
              "      <td>Sri Lanka</td>\n",
              "      <td>New Zealand</td>\n",
              "      <td>Sri Lanka</td>\n",
              "      <td>Sri Lanka</td>\n",
              "      <td>field</td>\n",
              "      <td>REJ Martinesz</td>\n",
              "      <td>RSA Palliyaguruge</td>\n",
              "      <td>Sri Lanka</td>\n",
              "    </tr>\n",
              "    <tr>\n",
              "      <th>290</th>\n",
              "      <td>2013-06-27</td>\n",
              "      <td>Kennington Oval</td>\n",
              "      <td>London</td>\n",
              "      <td>England</td>\n",
              "      <td>New Zealand</td>\n",
              "      <td>England</td>\n",
              "      <td>England</td>\n",
              "      <td>field</td>\n",
              "      <td>RK Illingworth</td>\n",
              "      <td>RT Robinson</td>\n",
              "      <td>New Zealand</td>\n",
              "    </tr>\n",
              "    <tr>\n",
              "      <th>372</th>\n",
              "      <td>2014-08-27</td>\n",
              "      <td>Warner Park</td>\n",
              "      <td>St Kitts</td>\n",
              "      <td>West Indies</td>\n",
              "      <td>Bangladesh</td>\n",
              "      <td>West Indies</td>\n",
              "      <td>West Indies</td>\n",
              "      <td>bat</td>\n",
              "      <td>PJ Nero</td>\n",
              "      <td>JS Wilson</td>\n",
              "      <td>Bangladesh</td>\n",
              "    </tr>\n",
              "    <tr>\n",
              "      <th>399</th>\n",
              "      <td>2015-07-13</td>\n",
              "      <td>Civil Service Cricket Club</td>\n",
              "      <td>Belfast</td>\n",
              "      <td>Ireland</td>\n",
              "      <td>Nepal</td>\n",
              "      <td>Ireland</td>\n",
              "      <td>Ireland</td>\n",
              "      <td>field</td>\n",
              "      <td>AK Chaudhary</td>\n",
              "      <td>JD Cloete</td>\n",
              "      <td>Ireland</td>\n",
              "    </tr>\n",
              "  </tbody>\n",
              "</table>\n",
              "</div>"
            ],
            "text/plain": [
              "          dates                                    venue          city  \\\n",
              "4    2006-02-16                                Eden Park      Auckland   \n",
              "60   2008-12-26                                Eden Park      Auckland   \n",
              "101  2009-08-30                             Old Trafford    Manchester   \n",
              "124  2010-02-28                              AMI Stadium  Christchurch   \n",
              "230  2012-09-10                             Old Trafford    Manchester   \n",
              "245  2012-09-27  Pallekele International Cricket Stadium         Kandy   \n",
              "260  2012-10-30  Pallekele International Cricket Stadium         Kandy   \n",
              "290  2013-06-27                          Kennington Oval        London   \n",
              "372  2014-08-27                              Warner Park      St Kitts   \n",
              "399  2015-07-13               Civil Service Cricket Club       Belfast   \n",
              "\n",
              "       home_team        team_1       team_2  toss_winner toss_decision  \\\n",
              "4    New Zealand   West Indies  New Zealand  New Zealand         field   \n",
              "60   New Zealand   West Indies  New Zealand  New Zealand           bat   \n",
              "101      England     Australia      England      England         field   \n",
              "124  New Zealand     Australia  New Zealand  New Zealand           bat   \n",
              "230      England  South Africa      England      England         field   \n",
              "245    Sri Lanka   New Zealand    Sri Lanka    Sri Lanka           bat   \n",
              "260    Sri Lanka   New Zealand    Sri Lanka    Sri Lanka         field   \n",
              "290      England   New Zealand      England      England         field   \n",
              "372  West Indies    Bangladesh  West Indies  West Indies           bat   \n",
              "399      Ireland         Nepal      Ireland      Ireland         field   \n",
              "\n",
              "           umpire_1           umpire_2 match_winner  \n",
              "4         BF Bowden            AL Hill  New Zealand  \n",
              "60        BF Bowden            AL Hill  New Zealand  \n",
              "101        IJ Gould   RA Kettleborough      England  \n",
              "124     CB Gaffaney            AL Hill  New Zealand  \n",
              "230       RJ Bailey     RK Illingworth      England  \n",
              "245       Aleem Dar         SJA Taufel  New Zealand  \n",
              "260   REJ Martinesz  RSA Palliyaguruge    Sri Lanka  \n",
              "290  RK Illingworth        RT Robinson  New Zealand  \n",
              "372         PJ Nero          JS Wilson   Bangladesh  \n",
              "399    AK Chaudhary          JD Cloete      Ireland  "
            ]
          },
          "metadata": {
            "tags": []
          },
          "execution_count": 70
        }
      ]
    },
    {
      "cell_type": "code",
      "metadata": {
        "colab": {
          "base_uri": "https://localhost:8080/"
        },
        "id": "30ka6wTeS8RX",
        "outputId": "a4dd3b73-799d-4e3d-f77c-d546bebdc02b"
      },
      "source": [
        "home_team_two.info()"
      ],
      "execution_count": 71,
      "outputs": [
        {
          "output_type": "stream",
          "text": [
            "<class 'pandas.core.frame.DataFrame'>\n",
            "Int64Index: 83 entries, 4 to 964\n",
            "Data columns (total 11 columns):\n",
            " #   Column         Non-Null Count  Dtype \n",
            "---  ------         --------------  ----- \n",
            " 0   dates          83 non-null     object\n",
            " 1   venue          83 non-null     object\n",
            " 2   city           83 non-null     object\n",
            " 3   home_team      83 non-null     object\n",
            " 4   team_1         83 non-null     object\n",
            " 5   team_2         83 non-null     object\n",
            " 6   toss_winner    83 non-null     object\n",
            " 7   toss_decision  83 non-null     object\n",
            " 8   umpire_1       83 non-null     object\n",
            " 9   umpire_2       83 non-null     object\n",
            " 10  match_winner   83 non-null     object\n",
            "dtypes: object(11)\n",
            "memory usage: 7.8+ KB\n"
          ],
          "name": "stdout"
        }
      ]
    },
    {
      "cell_type": "code",
      "metadata": {
        "colab": {
          "base_uri": "https://localhost:8080/"
        },
        "id": "rq99_GUMS_zu",
        "outputId": "18ac8293-849a-444c-d768-9e5b44f01b99"
      },
      "source": [
        "home_team_two['match_winner'].value_counts().sort_index()"
      ],
      "execution_count": 72,
      "outputs": [
        {
          "output_type": "execute_result",
          "data": {
            "text/plain": [
              "Afghanistan              2\n",
              "Australia                7\n",
              "Bangladesh               1\n",
              "Bermuda                  2\n",
              "Bulgaria                 1\n",
              "England                  8\n",
              "Guernsey                 1\n",
              "India                   12\n",
              "Ireland                  1\n",
              "Malaysia                 1\n",
              "Netherlands              2\n",
              "New Zealand             13\n",
              "Pakistan                12\n",
              "Papua New Guinea         1\n",
              "Romania                  1\n",
              "Scotland                 1\n",
              "South Africa             5\n",
              "Sri Lanka                5\n",
              "United Arab Emirates     1\n",
              "West Indies              6\n",
              "Name: match_winner, dtype: int64"
            ]
          },
          "metadata": {
            "tags": []
          },
          "execution_count": 72
        }
      ]
    },
    {
      "cell_type": "code",
      "metadata": {
        "id": "KU7MDQ2GTI0O"
      },
      "source": [
        "home_team_twoo = home_team_two['team_2'].value_counts(sort=True).sort_index()\n",
        "match_wins = bowling_first['match_winner'].value_counts(sort=True).sort_index()"
      ],
      "execution_count": 73,
      "outputs": []
    },
    {
      "cell_type": "code",
      "metadata": {
        "colab": {
          "base_uri": "https://localhost:8080/",
          "height": 753
        },
        "id": "cqkoL7DnTSjv",
        "outputId": "3c0e612a-6afd-445e-f7f2-df4d9c17bc69"
      },
      "source": [
        "fig = plt.figure(figsize=(20,10))\n",
        "\n",
        "ax1 = fig.add_subplot(121)\n",
        "ax1.set_xlabel('Team')\n",
        "ax1.set_ylabel('Team 2 as home team')\n",
        "ax1.set_title(\"Team 2\")\n",
        "home_team_twoo.plot(kind='bar')\n",
        "\n",
        "ax2 = fig.add_subplot(122)\n",
        "match_wins.plot(kind='bar')\n",
        "ax2.set_xlabel('Team')\n",
        "ax2.set_ylabel('Count of matches won')\n",
        "ax2.set_title(\"Match Winners\")"
      ],
      "execution_count": 74,
      "outputs": [
        {
          "output_type": "execute_result",
          "data": {
            "text/plain": [
              "Text(0.5, 1.0, 'Match Winners')"
            ]
          },
          "metadata": {
            "tags": []
          },
          "execution_count": 74
        },
        {
          "output_type": "display_data",
          "data": {
            "image/png": "[encoded data removed]",
            "text/plain": [
              "<Figure size 1440x720 with 2 Axes>"
            ]
          },
          "metadata": {
            "tags": [],
            "needs_background": "light"
          }
        }
      ]
    },
    {
      "cell_type": "code",
      "metadata": {
        "colab": {
          "base_uri": "https://localhost:8080/",
          "height": 343
        },
        "id": "IYLVauENUXZG",
        "outputId": "a204bebe-b32b-4038-e16f-6f6db75bd809"
      },
      "source": [
        "mod_match_df = match_df.drop([\"dates\", \"umpire_1\", \"umpire_2\" ], axis = 1)\n",
        "mod_match_df.head(10)"
      ],
      "execution_count": 75,
      "outputs": [
        {
          "output_type": "execute_result",
          "data": {
            "text/html": [
              "<div>\n",
              "<style scoped>\n",
              "    .dataframe tbody tr th:only-of-type {\n",
              "        vertical-align: middle;\n",
              "    }\n",
              "\n",
              "    .dataframe tbody tr th {\n",
              "        vertical-align: top;\n",
              "    }\n",
              "\n",
              "    .dataframe thead th {\n",
              "        text-align: right;\n",
              "    }\n",
              "</style>\n",
              "<table border=\"1\" class=\"dataframe\">\n",
              "  <thead>\n",
              "    <tr style=\"text-align: right;\">\n",
              "      <th></th>\n",
              "      <th>venue</th>\n",
              "      <th>city</th>\n",
              "      <th>home_team</th>\n",
              "      <th>team_1</th>\n",
              "      <th>team_2</th>\n",
              "      <th>toss_winner</th>\n",
              "      <th>toss_decision</th>\n",
              "      <th>match_winner</th>\n",
              "    </tr>\n",
              "  </thead>\n",
              "  <tbody>\n",
              "    <tr>\n",
              "      <th>0</th>\n",
              "      <td>Eden Park</td>\n",
              "      <td>Auckland</td>\n",
              "      <td>New Zealand</td>\n",
              "      <td>New Zealand</td>\n",
              "      <td>Australia</td>\n",
              "      <td>Australia</td>\n",
              "      <td>bat</td>\n",
              "      <td>Australia</td>\n",
              "    </tr>\n",
              "    <tr>\n",
              "      <th>1</th>\n",
              "      <td>The Rose Bowl</td>\n",
              "      <td>Southampton</td>\n",
              "      <td>England</td>\n",
              "      <td>England</td>\n",
              "      <td>Australia</td>\n",
              "      <td>England</td>\n",
              "      <td>bat</td>\n",
              "      <td>England</td>\n",
              "    </tr>\n",
              "    <tr>\n",
              "      <th>2</th>\n",
              "      <td>New Wanderers Stadium</td>\n",
              "      <td>Johannesburg</td>\n",
              "      <td>South Africa</td>\n",
              "      <td>South Africa</td>\n",
              "      <td>New Zealand</td>\n",
              "      <td>New Zealand</td>\n",
              "      <td>field</td>\n",
              "      <td>New Zealand</td>\n",
              "    </tr>\n",
              "    <tr>\n",
              "      <th>3</th>\n",
              "      <td>Brisbane Cricket Ground</td>\n",
              "      <td>Brisbane</td>\n",
              "      <td>Australia</td>\n",
              "      <td>Australia</td>\n",
              "      <td>South Africa</td>\n",
              "      <td>Australia</td>\n",
              "      <td>bat</td>\n",
              "      <td>Australia</td>\n",
              "    </tr>\n",
              "    <tr>\n",
              "      <th>4</th>\n",
              "      <td>Eden Park</td>\n",
              "      <td>Auckland</td>\n",
              "      <td>New Zealand</td>\n",
              "      <td>West Indies</td>\n",
              "      <td>New Zealand</td>\n",
              "      <td>New Zealand</td>\n",
              "      <td>field</td>\n",
              "      <td>New Zealand</td>\n",
              "    </tr>\n",
              "    <tr>\n",
              "      <th>5</th>\n",
              "      <td>New Wanderers Stadium</td>\n",
              "      <td>Johannesburg</td>\n",
              "      <td>South Africa</td>\n",
              "      <td>South Africa</td>\n",
              "      <td>Australia</td>\n",
              "      <td>South Africa</td>\n",
              "      <td>bat</td>\n",
              "      <td>South Africa</td>\n",
              "    </tr>\n",
              "    <tr>\n",
              "      <th>6</th>\n",
              "      <td>The Rose Bowl</td>\n",
              "      <td>Southampton</td>\n",
              "      <td>England</td>\n",
              "      <td>England</td>\n",
              "      <td>Sri Lanka</td>\n",
              "      <td>Sri Lanka</td>\n",
              "      <td>bat</td>\n",
              "      <td>Sri Lanka</td>\n",
              "    </tr>\n",
              "    <tr>\n",
              "      <th>7</th>\n",
              "      <td>County Ground</td>\n",
              "      <td>Bristol</td>\n",
              "      <td>England</td>\n",
              "      <td>England</td>\n",
              "      <td>Pakistan</td>\n",
              "      <td>England</td>\n",
              "      <td>bat</td>\n",
              "      <td>Pakistan</td>\n",
              "    </tr>\n",
              "    <tr>\n",
              "      <th>8</th>\n",
              "      <td>New Wanderers Stadium</td>\n",
              "      <td>Johannesburg</td>\n",
              "      <td>South Africa</td>\n",
              "      <td>South Africa</td>\n",
              "      <td>India</td>\n",
              "      <td>South Africa</td>\n",
              "      <td>bat</td>\n",
              "      <td>India</td>\n",
              "    </tr>\n",
              "    <tr>\n",
              "      <th>9</th>\n",
              "      <td>Westpac Stadium</td>\n",
              "      <td>Wellington</td>\n",
              "      <td>New Zealand</td>\n",
              "      <td>New Zealand</td>\n",
              "      <td>Sri Lanka</td>\n",
              "      <td>New Zealand</td>\n",
              "      <td>bat</td>\n",
              "      <td>Sri Lanka</td>\n",
              "    </tr>\n",
              "  </tbody>\n",
              "</table>\n",
              "</div>"
            ],
            "text/plain": [
              "                     venue          city     home_team        team_1  \\\n",
              "0                Eden Park      Auckland   New Zealand   New Zealand   \n",
              "1            The Rose Bowl   Southampton       England       England   \n",
              "2    New Wanderers Stadium  Johannesburg  South Africa  South Africa   \n",
              "3  Brisbane Cricket Ground      Brisbane     Australia     Australia   \n",
              "4                Eden Park      Auckland   New Zealand   West Indies   \n",
              "5    New Wanderers Stadium  Johannesburg  South Africa  South Africa   \n",
              "6            The Rose Bowl   Southampton       England       England   \n",
              "7            County Ground       Bristol       England       England   \n",
              "8    New Wanderers Stadium  Johannesburg  South Africa  South Africa   \n",
              "9          Westpac Stadium    Wellington   New Zealand   New Zealand   \n",
              "\n",
              "         team_2   toss_winner toss_decision  match_winner  \n",
              "0     Australia     Australia           bat     Australia  \n",
              "1     Australia       England           bat       England  \n",
              "2   New Zealand   New Zealand         field   New Zealand  \n",
              "3  South Africa     Australia           bat     Australia  \n",
              "4   New Zealand   New Zealand         field   New Zealand  \n",
              "5     Australia  South Africa           bat  South Africa  \n",
              "6     Sri Lanka     Sri Lanka           bat     Sri Lanka  \n",
              "7      Pakistan       England           bat      Pakistan  \n",
              "8         India  South Africa           bat         India  \n",
              "9     Sri Lanka   New Zealand           bat     Sri Lanka  "
            ]
          },
          "metadata": {
            "tags": []
          },
          "execution_count": 75
        }
      ]
    },
    {
      "cell_type": "code",
      "metadata": {
        "colab": {
          "base_uri": "https://localhost:8080/"
        },
        "id": "OmcGcOaUVJ7n",
        "outputId": "832b1999-c283-42f7-ec43-6151b4684a92"
      },
      "source": [
        "mod_match_df.info()"
      ],
      "execution_count": 76,
      "outputs": [
        {
          "output_type": "stream",
          "text": [
            "<class 'pandas.core.frame.DataFrame'>\n",
            "RangeIndex: 971 entries, 0 to 970\n",
            "Data columns (total 8 columns):\n",
            " #   Column         Non-Null Count  Dtype \n",
            "---  ------         --------------  ----- \n",
            " 0   venue          971 non-null    object\n",
            " 1   city           971 non-null    object\n",
            " 2   home_team      971 non-null    object\n",
            " 3   team_1         971 non-null    object\n",
            " 4   team_2         971 non-null    object\n",
            " 5   toss_winner    971 non-null    object\n",
            " 6   toss_decision  971 non-null    object\n",
            " 7   match_winner   971 non-null    object\n",
            "dtypes: object(8)\n",
            "memory usage: 60.8+ KB\n"
          ],
          "name": "stdout"
        }
      ]
    },
    {
      "cell_type": "code",
      "metadata": {
        "colab": {
          "base_uri": "https://localhost:8080/",
          "height": 360
        },
        "id": "lPqzJsiBVfne",
        "outputId": "101d7f0d-8776-490e-8229-335d061287fe"
      },
      "source": [
        "from sklearn.preprocessing import LabelEncoder\n",
        "\n",
        "ftr_list = ['toss_decision']\n",
        "encoder = LabelEncoder()\n",
        "for ftr in ftr_list:\n",
        "    mod_match_df[ftr] = encoder.fit_transform(mod_match_df[ftr])\n",
        "    print(encoder.classes_)\n",
        "\n",
        "mod_match_df.head(10)"
      ],
      "execution_count": 78,
      "outputs": [
        {
          "output_type": "stream",
          "text": [
            "['bat' 'field']\n"
          ],
          "name": "stdout"
        },
        {
          "output_type": "execute_result",
          "data": {
            "text/html": [
              "<div>\n",
              "<style scoped>\n",
              "    .dataframe tbody tr th:only-of-type {\n",
              "        vertical-align: middle;\n",
              "    }\n",
              "\n",
              "    .dataframe tbody tr th {\n",
              "        vertical-align: top;\n",
              "    }\n",
              "\n",
              "    .dataframe thead th {\n",
              "        text-align: right;\n",
              "    }\n",
              "</style>\n",
              "<table border=\"1\" class=\"dataframe\">\n",
              "  <thead>\n",
              "    <tr style=\"text-align: right;\">\n",
              "      <th></th>\n",
              "      <th>venue</th>\n",
              "      <th>city</th>\n",
              "      <th>home_team</th>\n",
              "      <th>team_1</th>\n",
              "      <th>team_2</th>\n",
              "      <th>toss_winner</th>\n",
              "      <th>toss_decision</th>\n",
              "      <th>match_winner</th>\n",
              "    </tr>\n",
              "  </thead>\n",
              "  <tbody>\n",
              "    <tr>\n",
              "      <th>0</th>\n",
              "      <td>Eden Park</td>\n",
              "      <td>Auckland</td>\n",
              "      <td>New Zealand</td>\n",
              "      <td>New Zealand</td>\n",
              "      <td>Australia</td>\n",
              "      <td>Australia</td>\n",
              "      <td>0</td>\n",
              "      <td>Australia</td>\n",
              "    </tr>\n",
              "    <tr>\n",
              "      <th>1</th>\n",
              "      <td>The Rose Bowl</td>\n",
              "      <td>Southampton</td>\n",
              "      <td>England</td>\n",
              "      <td>England</td>\n",
              "      <td>Australia</td>\n",
              "      <td>England</td>\n",
              "      <td>0</td>\n",
              "      <td>England</td>\n",
              "    </tr>\n",
              "    <tr>\n",
              "      <th>2</th>\n",
              "      <td>New Wanderers Stadium</td>\n",
              "      <td>Johannesburg</td>\n",
              "      <td>South Africa</td>\n",
              "      <td>South Africa</td>\n",
              "      <td>New Zealand</td>\n",
              "      <td>New Zealand</td>\n",
              "      <td>1</td>\n",
              "      <td>New Zealand</td>\n",
              "    </tr>\n",
              "    <tr>\n",
              "      <th>3</th>\n",
              "      <td>Brisbane Cricket Ground</td>\n",
              "      <td>Brisbane</td>\n",
              "      <td>Australia</td>\n",
              "      <td>Australia</td>\n",
              "      <td>South Africa</td>\n",
              "      <td>Australia</td>\n",
              "      <td>0</td>\n",
              "      <td>Australia</td>\n",
              "    </tr>\n",
              "    <tr>\n",
              "      <th>4</th>\n",
              "      <td>Eden Park</td>\n",
              "      <td>Auckland</td>\n",
              "      <td>New Zealand</td>\n",
              "      <td>West Indies</td>\n",
              "      <td>New Zealand</td>\n",
              "      <td>New Zealand</td>\n",
              "      <td>1</td>\n",
              "      <td>New Zealand</td>\n",
              "    </tr>\n",
              "    <tr>\n",
              "      <th>5</th>\n",
              "      <td>New Wanderers Stadium</td>\n",
              "      <td>Johannesburg</td>\n",
              "      <td>South Africa</td>\n",
              "      <td>South Africa</td>\n",
              "      <td>Australia</td>\n",
              "      <td>South Africa</td>\n",
              "      <td>0</td>\n",
              "      <td>South Africa</td>\n",
              "    </tr>\n",
              "    <tr>\n",
              "      <th>6</th>\n",
              "      <td>The Rose Bowl</td>\n",
              "      <td>Southampton</td>\n",
              "      <td>England</td>\n",
              "      <td>England</td>\n",
              "      <td>Sri Lanka</td>\n",
              "      <td>Sri Lanka</td>\n",
              "      <td>0</td>\n",
              "      <td>Sri Lanka</td>\n",
              "    </tr>\n",
              "    <tr>\n",
              "      <th>7</th>\n",
              "      <td>County Ground</td>\n",
              "      <td>Bristol</td>\n",
              "      <td>England</td>\n",
              "      <td>England</td>\n",
              "      <td>Pakistan</td>\n",
              "      <td>England</td>\n",
              "      <td>0</td>\n",
              "      <td>Pakistan</td>\n",
              "    </tr>\n",
              "    <tr>\n",
              "      <th>8</th>\n",
              "      <td>New Wanderers Stadium</td>\n",
              "      <td>Johannesburg</td>\n",
              "      <td>South Africa</td>\n",
              "      <td>South Africa</td>\n",
              "      <td>India</td>\n",
              "      <td>South Africa</td>\n",
              "      <td>0</td>\n",
              "      <td>India</td>\n",
              "    </tr>\n",
              "    <tr>\n",
              "      <th>9</th>\n",
              "      <td>Westpac Stadium</td>\n",
              "      <td>Wellington</td>\n",
              "      <td>New Zealand</td>\n",
              "      <td>New Zealand</td>\n",
              "      <td>Sri Lanka</td>\n",
              "      <td>New Zealand</td>\n",
              "      <td>0</td>\n",
              "      <td>Sri Lanka</td>\n",
              "    </tr>\n",
              "  </tbody>\n",
              "</table>\n",
              "</div>"
            ],
            "text/plain": [
              "                     venue          city     home_team        team_1  \\\n",
              "0                Eden Park      Auckland   New Zealand   New Zealand   \n",
              "1            The Rose Bowl   Southampton       England       England   \n",
              "2    New Wanderers Stadium  Johannesburg  South Africa  South Africa   \n",
              "3  Brisbane Cricket Ground      Brisbane     Australia     Australia   \n",
              "4                Eden Park      Auckland   New Zealand   West Indies   \n",
              "5    New Wanderers Stadium  Johannesburg  South Africa  South Africa   \n",
              "6            The Rose Bowl   Southampton       England       England   \n",
              "7            County Ground       Bristol       England       England   \n",
              "8    New Wanderers Stadium  Johannesburg  South Africa  South Africa   \n",
              "9          Westpac Stadium    Wellington   New Zealand   New Zealand   \n",
              "\n",
              "         team_2   toss_winner  toss_decision  match_winner  \n",
              "0     Australia     Australia              0     Australia  \n",
              "1     Australia       England              0       England  \n",
              "2   New Zealand   New Zealand              1   New Zealand  \n",
              "3  South Africa     Australia              0     Australia  \n",
              "4   New Zealand   New Zealand              1   New Zealand  \n",
              "5     Australia  South Africa              0  South Africa  \n",
              "6     Sri Lanka     Sri Lanka              0     Sri Lanka  \n",
              "7      Pakistan       England              0      Pakistan  \n",
              "8         India  South Africa              0         India  \n",
              "9     Sri Lanka   New Zealand              0     Sri Lanka  "
            ]
          },
          "metadata": {
            "tags": []
          },
          "execution_count": 78
        }
      ]
    },
    {
      "cell_type": "code",
      "metadata": {
        "colab": {
          "base_uri": "https://localhost:8080/"
        },
        "id": "nCa4HxX2XEb-",
        "outputId": "8623531f-c692-4dcd-d143-a6ef73227bac"
      },
      "source": [
        "mod_match_df['venue'].value_counts(sort=True)"
      ],
      "execution_count": 83,
      "outputs": [
        {
          "output_type": "execute_result",
          "data": {
            "text/plain": [
              "Dubai International Cricket Stadium    62\n",
              "Sheikh Zayed Stadium                   44\n",
              "Shere Bangla National Stadium          44\n",
              "R Premadasa Stadium                    26\n",
              "New Wanderers Stadium                  24\n",
              "                                       ..\n",
              "University Oval                         1\n",
              "De Beers Diamond Oval                   1\n",
              "OUTsurance Oval                         1\n",
              "Sportpark Maarschalkerweerd             1\n",
              "Green Park                              1\n",
              "Name: venue, Length: 138, dtype: int64"
            ]
          },
          "metadata": {
            "tags": []
          },
          "execution_count": 83
        }
      ]
    },
    {
      "cell_type": "code",
      "metadata": {
        "colab": {
          "base_uri": "https://localhost:8080/"
        },
        "id": "zNCbWLJvXjqW",
        "outputId": "9071231d-9b1a-49c7-d573-dbaf0b5f51af"
      },
      "source": [
        "mod_match_df['city'].value_counts(sort=True)"
      ],
      "execution_count": 82,
      "outputs": [
        {
          "output_type": "execute_result",
          "data": {
            "text/plain": [
              "Dubai           92\n",
              "Abu Dhabi       53\n",
              "Colombo         37\n",
              "Mirpur          35\n",
              "Johannesburg    28\n",
              "                ..\n",
              "Carrara          1\n",
              "Victoria         1\n",
              "Hyderabad        1\n",
              "Taunton          1\n",
              "Gros Islet       1\n",
              "Name: city, Length: 117, dtype: int64"
            ]
          },
          "metadata": {
            "tags": []
          },
          "execution_count": 82
        }
      ]
    },
    {
      "cell_type": "code",
      "metadata": {
        "id": "PjwGwsFpXwfp"
      },
      "source": [
        ""
      ],
      "execution_count": null,
      "outputs": []
    }
  ]
}